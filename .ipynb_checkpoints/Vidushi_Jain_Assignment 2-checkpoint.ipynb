{
 "cells": [
  {
   "cell_type": "markdown",
   "metadata": {},
   "source": [
    "## COMP41680 Assignment 2: Text Classification\n",
    "Student Name- Vidushi Jain <br/>\n",
    "Student Number- 18200009"
   ]
  },
  {
   "cell_type": "code",
   "execution_count": 2,
   "metadata": {},
   "outputs": [],
   "source": [
    "import os\n",
    "import urllib.request\n",
    "import csv\n",
    "import pandas as pd \n",
    "import sys,socket\n",
    "import requests\n",
    "import math\n",
    "import json\n",
    "import numpy as np\n",
    "from bs4 import BeautifulSoup\n",
    "import re\n",
    "from nltk.corpus import stopwords\n",
    "import nltk\n",
    "from sklearn.feature_extraction.text import CountVectorizer\n",
    "from sklearn.model_selection import train_test_split\n",
    "from sklearn.neighbors import KNeighborsClassifier\n",
    "from sklearn.metrics import accuracy_score\n",
    "from sklearn.feature_extraction.text import TfidfVectorizer\n",
    "from sklearn.model_selection import cross_val_score\n",
    "from sklearn.linear_model import LogisticRegression\n",
    "from sklearn.model_selection import GridSearchCV\n",
    "from sklearn import metrics\n",
    "from sklearn.naive_bayes import MultinomialNB\n",
    "from sklearn.svm import SVC\n",
    "from sklearn import linear_model\n",
    "import matplotlib.pyplot as plt\n",
    "%matplotlib inline"
   ]
  },
  {
   "cell_type": "code",
   "execution_count": 3,
   "metadata": {},
   "outputs": [],
   "source": [
    "pd.set_option('display.max_colwidth', -1)"
   ]
  },
  {
   "cell_type": "markdown",
   "metadata": {},
   "source": [
    "## Task 1 \n",
    "\n",
    "Select two review categories of your choice. Scrape all reviews for each category and store them as two separate datasets. For each review, you should store the review text and a class label (i.e. whether the review is “positive” or “negative”)\n",
    "\n",
    "For this task, I have chosen <b>'Bars' and 'Hotels and travel'</b> category. From the main page, I am extracting the URL of these two categories. Then I am looping through each URL. For each URL, I am iterating over each business in that particular category. Then for each business, I am looping through reviews and fetching it's text and number of stars. At the end, I am storing the data in two dataframes separately for both categories.  "
   ]
  },
  {
   "cell_type": "code",
   "execution_count": 4,
   "metadata": {},
   "outputs": [],
   "source": [
    "main_page_url='http://mlg.ucd.ie/modules/yalp/'\n",
    "headers = {'User-Agent': 'Mozilla/5.0 (Macintosh; Intel Mac OS X 10_11_6) AppleWebKit/537.36 (KHTML, like Gecko) Chrome/61.0.3163.100 Safari/537.36'}\n",
    "response = requests.get(main_page_url,headers=headers)\n",
    "content = response.content\n",
    "soup = BeautifulSoup(content,\"html.parser\")  \n",
    "headings = soup.find_all('a')\n",
    "category_url_list=[]\n",
    "for link in headings:\n",
    "    if(link.text == 'Category: Bars' or link.text == 'Category: Hotels and travel'):\n",
    "        category_url_list.append('http://mlg.ucd.ie/modules/yalp/%s'%(link['href']))\n",
    "        \n",
    "category_count=0;\n",
    "bars_reviews_value=[]\n",
    "hotels_travel_reviews_value=[]\n",
    "    \n",
    "for url in category_url_list:\n",
    "    headers = {'User-Agent': 'Mozilla/5.0 (Macintosh; Intel Mac OS X 10_11_6) AppleWebKit/537.36 (KHTML, like Gecko) Chrome/61.0.3163.100 Safari/537.36'}\n",
    "    response = requests.get(url,headers=headers)\n",
    "    content = response.content\n",
    "    soup = BeautifulSoup(content,\"html.parser\")\n",
    "    headings = soup.find_all('h6')\n",
    "    for heading in headings:\n",
    "        url=heading.find('a')['href']\n",
    "        #business_name=heading.find('a').contents[0]\n",
    "        request_url='http://mlg.ucd.ie/modules/yalp/%s'%(url)\n",
    "        response = requests.get(request_url,headers=headers)\n",
    "        content = response.content\n",
    "        soup = BeautifulSoup(content,\"html.parser\")    \n",
    "        reviews=soup.findAll('div', attrs={'class':'review'})\n",
    "        for review in reviews:\n",
    "            star_p=review.find('p', attrs={'class':'stars'})\n",
    "            star_value=star_p.find('img')['alt']\n",
    "            text=review.find('p', attrs={'class':'text'}).contents[0]\n",
    "            if category_count == 0:\n",
    "                bars_reviews_value.append([text,star_value])\n",
    "            else:\n",
    "                hotels_travel_reviews_value.append([text,star_value]) \n",
    "                \n",
    "    category_count=category_count+1     "
   ]
  },
  {
   "cell_type": "markdown",
   "metadata": {},
   "source": [
    "Creating dataframe from bars_reviews_value list which was created during the Web Scrapping and storing the data in a csv file for future use"
   ]
  },
  {
   "cell_type": "code",
   "execution_count": 5,
   "metadata": {},
   "outputs": [
    {
     "data": {
      "text/html": [
       "<div>\n",
       "<style scoped>\n",
       "    .dataframe tbody tr th:only-of-type {\n",
       "        vertical-align: middle;\n",
       "    }\n",
       "\n",
       "    .dataframe tbody tr th {\n",
       "        vertical-align: top;\n",
       "    }\n",
       "\n",
       "    .dataframe thead th {\n",
       "        text-align: right;\n",
       "    }\n",
       "</style>\n",
       "<table border=\"1\" class=\"dataframe\">\n",
       "  <thead>\n",
       "    <tr style=\"text-align: right;\">\n",
       "      <th></th>\n",
       "      <th>Review Text</th>\n",
       "      <th>Star</th>\n",
       "    </tr>\n",
       "  </thead>\n",
       "  <tbody>\n",
       "    <tr>\n",
       "      <th>0</th>\n",
       "      <td>It would help if the front girl don't just sit us down and not ask us for drinks or put us with a waitress. Instead, let us just sit here for almost an hour unattended! If it's time for you to clock out then it's not our problem. But if you're gonna seat us be more professional about it at least then leave!</td>\n",
       "      <td>3-star</td>\n",
       "    </tr>\n",
       "    <tr>\n",
       "      <th>1</th>\n",
       "      <td>One star because that's the least amount you can leave. I understand they have dollar margaritas but they should have enough people on staff to make all the food and get people seated and fed quickly. We came in restaurant seemed slow. Hostess said 10 minute wait to let the kitchen catch up. Well by the time we where seated the lobby was packed. As soon as we sat down we each ordered a water and a margarita we were a party of two. we place our order for food. That's where things went south. We sat for 45 minutes. The table that sat after us, ate and left before our appetizer ever came. I left a $5 on the table to cover margaritas. Never going back again.</td>\n",
       "      <td>1-star</td>\n",
       "    </tr>\n",
       "    <tr>\n",
       "      <th>2</th>\n",
       "      <td>Bad time today. Dirty windows, table sticky, handy payment/menu gadget yucky. Used my fork to enter info. Food was burned and dry. Only dark chocolate desserts. Adios.</td>\n",
       "      <td>2-star</td>\n",
       "    </tr>\n",
       "    <tr>\n",
       "      <th>3</th>\n",
       "      <td>My second visit in the last year. Both experiences were similar: awful. Tonight, we arrived after my daughter's dance recital, so around 10pm. Not too crowded, thought it would be a quick place to grab some appetizers. NOT! Our party of 6 ordered 4 appetizers (3 of which were sample size), 2 house salads, and a kids meal. 30 minutes later, one appetizer came out, said the remainder of the food would be out in about 3 minutes. 10 minutes later, a different server brought the salads out (40 minutes after were seated, just for salads!) but we had no silverware. Another 5 minutes later, 2 more appetizers and the kids meal came out and we asked for silverware. Next time the server rolled around, we again asked for silverware, and were told \"I told her to get you some,\" referring to the hostess. He called across the restaurant to the hostess, who said she didn't have any silverware. He grumbled and went to find some. Several minutes later, our last appetizer, and silverware finally arrived. So almost a full hour before we had our entire meal and utensils to eat it with. We asked about the 50% off appetizer sign on the table and the dude actually said \"you got here after 9, and that's for after 10 on the weekends.\" He did finally honor the 50% off the regular appetizer when we basically had to tell him to look at the time on our ticket. . Not completely the server's fault, but the whole experience was horrible. After two very sub-par visits, my family will NEVER go back to this location.</td>\n",
       "      <td>1-star</td>\n",
       "    </tr>\n",
       "    <tr>\n",
       "      <th>4</th>\n",
       "      <td>Absolutely awful! Took forever to get food, food then came out cold, we asked the manager to fix tv 3 times and it never got fix! The place was dead and it was still slower than molasses.</td>\n",
       "      <td>1-star</td>\n",
       "    </tr>\n",
       "  </tbody>\n",
       "</table>\n",
       "</div>"
      ],
      "text/plain": [
       "                                                                                                                                                                                                                                                                                                                                                                                                                                                                                                                                                                                                                                                                                                                                                                                                                                                                                                                                                                                                                                                                                                                                                                                                                                                                                                                                                                                                                                                                                                                                                         Review Text  \\\n",
       "0  It would help if the front girl don't just sit us down and not ask us for drinks or put us with a waitress. Instead, let us just sit here for almost an hour unattended! If it's time for you to clock out then it's not our problem. But if you're gonna seat us be more professional about it at least then leave!                                                                                                                                                                                                                                                                                                                                                                                                                                                                                                                                                                                                                                                                                                                                                                                                                                                                                                                                                                                                                                                                                                                                                                                                                                                \n",
       "1  One star because that's the least amount you can leave. I understand they have dollar margaritas but they should have enough people on staff to make all the food and get people seated and fed quickly. We came in restaurant seemed slow. Hostess said 10 minute wait to let the kitchen catch up. Well by the time we where seated the lobby was packed. As soon as we sat down we each ordered a water and a margarita we were a party of two. we place our order for food. That's where things went south. We sat for 45 minutes. The table that sat after us, ate and left before our appetizer ever came. I left a $5 on the table to cover margaritas. Never going back again.                                                                                                                                                                                                                                                                                                                                                                                                                                                                                                                                                                                                                                                                                                                                                                                                                                                                              \n",
       "2  Bad time today. Dirty windows, table sticky, handy payment/menu gadget yucky. Used my fork to enter info. Food was burned and dry. Only dark chocolate desserts. Adios.                                                                                                                                                                                                                                                                                                                                                                                                                                                                                                                                                                                                                                                                                                                                                                                                                                                                                                                                                                                                                                                                                                                                                                                                                                                                                                                                                                                             \n",
       "3  My second visit in the last year. Both experiences were similar: awful. Tonight, we arrived after my daughter's dance recital, so around 10pm. Not too crowded, thought it would be a quick place to grab some appetizers. NOT! Our party of 6 ordered 4 appetizers (3 of which were sample size), 2 house salads, and a kids meal. 30 minutes later, one appetizer came out, said the remainder of the food would be out in about 3 minutes. 10 minutes later, a different server brought the salads out (40 minutes after were seated, just for salads!) but we had no silverware. Another 5 minutes later, 2 more appetizers and the kids meal came out and we asked for silverware. Next time the server rolled around, we again asked for silverware, and were told \"I told her to get you some,\" referring to the hostess. He called across the restaurant to the hostess, who said she didn't have any silverware. He grumbled and went to find some. Several minutes later, our last appetizer, and silverware finally arrived. So almost a full hour before we had our entire meal and utensils to eat it with. We asked about the 50% off appetizer sign on the table and the dude actually said \"you got here after 9, and that's for after 10 on the weekends.\" He did finally honor the 50% off the regular appetizer when we basically had to tell him to look at the time on our ticket. . Not completely the server's fault, but the whole experience was horrible. After two very sub-par visits, my family will NEVER go back to this location.   \n",
       "4  Absolutely awful! Took forever to get food, food then came out cold, we asked the manager to fix tv 3 times and it never got fix! The place was dead and it was still slower than molasses.                                                                                                                                                                                                                                                                                                                                                                                                                                                                                                                                                                                                                                                                                                                                                                                                                                                                                                                                                                                                                                                                                                                                                                                                                                                                                                                                                                         \n",
       "\n",
       "     Star  \n",
       "0  3-star  \n",
       "1  1-star  \n",
       "2  2-star  \n",
       "3  1-star  \n",
       "4  1-star  "
      ]
     },
     "execution_count": 5,
     "metadata": {},
     "output_type": "execute_result"
    }
   ],
   "source": [
    "bars_dataset = pd.DataFrame(bars_reviews_value)\n",
    "bars_dataset.columns = ['Review Text','Star']\n",
    "bars_dataset.head()"
   ]
  },
  {
   "cell_type": "code",
   "execution_count": 6,
   "metadata": {},
   "outputs": [],
   "source": [
    "export_csv = bars_dataset.to_csv (r'bars_dataset.csv', index = None, header=True)"
   ]
  },
  {
   "cell_type": "markdown",
   "metadata": {},
   "source": [
    "Creating dataframe from hotels_travel_reviews_value list which was created during the Web Scrapping and storing the data in a csv file for future use"
   ]
  },
  {
   "cell_type": "code",
   "execution_count": 7,
   "metadata": {},
   "outputs": [
    {
     "data": {
      "text/html": [
       "<div>\n",
       "<style scoped>\n",
       "    .dataframe tbody tr th:only-of-type {\n",
       "        vertical-align: middle;\n",
       "    }\n",
       "\n",
       "    .dataframe tbody tr th {\n",
       "        vertical-align: top;\n",
       "    }\n",
       "\n",
       "    .dataframe thead th {\n",
       "        text-align: right;\n",
       "    }\n",
       "</style>\n",
       "<table border=\"1\" class=\"dataframe\">\n",
       "  <thead>\n",
       "    <tr style=\"text-align: right;\">\n",
       "      <th></th>\n",
       "      <th>Review Text</th>\n",
       "      <th>Star</th>\n",
       "    </tr>\n",
       "  </thead>\n",
       "  <tbody>\n",
       "    <tr>\n",
       "      <th>0</th>\n",
       "      <td>I have used this service before and was satisfied, until June 20, 2018. I prearranged via telephone a pickup from Terminal 3 to Georgetown and clearly specified a credit card would be used for payment to the driver. The car 570L arrived quickly and was clean and the drive uneventful. When it came time to pay I presented my MasterCard and that's when the problem started. The driver found he had no connection on his payment device. He tried several times to put the card throug, he even tried to put his own card through at one paint in this debacle, and each time the unit said 'no connection'. He then tried driving the car (with me in it) off my property and up and down the street in search of an internet connection, at one point he drove me to an auto repair facility up the road, stopping along the way and staying parked in the auto parking lot trying to obtain internet service. I finally asked after a very extended period to please return to my property to sort it out. It was getting dark and I was travelling alone and getting anxious. I only had a credit card in which to pay with. He proceeded to suggest that he would drive me into Georgetown to an ATM to get money. I said no to this as it would add another 20 minutes to this lengthy ordeal of being trapped in the car.i offered him a cheque which was the only other logical option. H e said no to that idea. He then proceeded to call his dispatch office and I could hear every word. They told him they could not take payments via this route as he was desperately trying to get someone to process my card payment. Then he called 'Gurdeep\", whoever that is, who told him to try charging his unit. He then spent at least 20 minutes looking over every inch of his car for his charger .....to no avail. I insisted after 45 minutes that I was leaving and going into my home and that a cheque would be the only option. He refused to leave my property. I went inside leaving him to pace around my driveway in the dark on the phone with Gurdeep. After another period of home the driver came to my door and asked me to speak to Gurdeep. I explained what was going on to Gurdeep and his impolite aggressive and rude response was that it was 'not his problem that I had no cash'.....and the problem was I lived in Halton Hills. I decided not to communicate any further with Gurdeep as he was not understanding of the situation, and of the fact that I had specified upon booking that I would be paying by credit card. The driver then told me he would call the police for non-payment, then decided after another call, and more pacing around my driveway that Gurdeep would accept my cheque. At this point I was terrified, and it was dark and I was alone. I told the driver I would have my husband (who was in another province) call the company to arrange a credit card payment. The driver still refused to leave. My husband called the company and they finally accepted his card for payment...somehow. The driver sat on the road in front of my house until the hit man Gurdeep received payment I guess. I will NEVER use this service again. It was a horrible experience. I had every intention of paying, and sincerely hope this does not happen to anyone else, especially a female travelling alone.</td>\n",
       "      <td>1-star</td>\n",
       "    </tr>\n",
       "    <tr>\n",
       "      <th>1</th>\n",
       "      <td>First time I tried using them the driver was nowhere to be found. Called and found out he was still 30 minutes away! I understand there is traffic, but your job is to drive. Seriously, look/listen/read the traffic reports. Yes it may have been close to rush hour, so maybe leave a bit earlier? I've never had a problem getting to/from places outside the city on time, so I have a hard time understanding why someone who's job it is to do the same thing can't show up on time. Thought I'd give them another shot as maybe it was just a lazy/poor/uncaring driver. This time, 15 minutes before my pickup time, the driver cancels and I'm told they're finding me another vehicle. How long will that take? Don't know. Great. So I've got 15 minutes to either hail an Uber, or wait for someone to maybe show up. No problem. Should have just used Uber in the first place. In summary, if they happen to be sitting right out front and you can get a reasonable flat rate, fair enough. In any other case, use Uber/Lyft/anything else, or risk being told at the last minute that for whatever reason your car isn't showing up....</td>\n",
       "      <td>1-star</td>\n",
       "    </tr>\n",
       "    <tr>\n",
       "      <th>2</th>\n",
       "      <td>Driver picked me up on time at 6AM and even knocked on my door instead of ringing my doorbell, in case people were still sleeping. Was courteous and polite the entire ride. Car was in good shape and didn't smell of smoke. Will definitely use them again!</td>\n",
       "      <td>5-star</td>\n",
       "    </tr>\n",
       "    <tr>\n",
       "      <th>3</th>\n",
       "      <td>First time using this taxi and limo company as I have used others. I was very happy with the services provided. I like the online booking and email confirmation with a reference number. I called the day I needed the limo service and the driver arrived a few minutes a head of time.</td>\n",
       "      <td>5-star</td>\n",
       "    </tr>\n",
       "    <tr>\n",
       "      <th>4</th>\n",
       "      <td>Great experience. Driver was early and was very friendly. Got me there early and was a smooth driver. Car was clean and well maintained.</td>\n",
       "      <td>5-star</td>\n",
       "    </tr>\n",
       "  </tbody>\n",
       "</table>\n",
       "</div>"
      ],
      "text/plain": [
       "                                                                                                                                                                                                                                                                                                                                                                                                                                                                                                                                                                                                                                                                                                                                                                                                                                                                                                                                                                                                                                                                                                                                                                                                                                                                                                                                                                                                                                                                                                                                                                                                                                                                                                                                                                                                                                                                                                                                                                                                                                                                                                                                                                                                                                                                                                                                                                                                                                                                                                                                                                                                                                                                                                                                                                                                                                                                                                                                                                                                                                                                                                                                                                                                                                                                                                                                                                          Review Text  \\\n",
       "0  I have used this service before and was satisfied, until June 20, 2018. I prearranged via telephone a pickup from Terminal 3 to Georgetown and clearly specified a credit card would be used for payment to the driver. The car 570L arrived quickly and was clean and the drive uneventful. When it came time to pay I presented my MasterCard and that's when the problem started. The driver found he had no connection on his payment device. He tried several times to put the card throug, he even tried to put his own card through at one paint in this debacle, and each time the unit said 'no connection'. He then tried driving the car (with me in it) off my property and up and down the street in search of an internet connection, at one point he drove me to an auto repair facility up the road, stopping along the way and staying parked in the auto parking lot trying to obtain internet service. I finally asked after a very extended period to please return to my property to sort it out. It was getting dark and I was travelling alone and getting anxious. I only had a credit card in which to pay with. He proceeded to suggest that he would drive me into Georgetown to an ATM to get money. I said no to this as it would add another 20 minutes to this lengthy ordeal of being trapped in the car.i offered him a cheque which was the only other logical option. H e said no to that idea. He then proceeded to call his dispatch office and I could hear every word. They told him they could not take payments via this route as he was desperately trying to get someone to process my card payment. Then he called 'Gurdeep\", whoever that is, who told him to try charging his unit. He then spent at least 20 minutes looking over every inch of his car for his charger .....to no avail. I insisted after 45 minutes that I was leaving and going into my home and that a cheque would be the only option. He refused to leave my property. I went inside leaving him to pace around my driveway in the dark on the phone with Gurdeep. After another period of home the driver came to my door and asked me to speak to Gurdeep. I explained what was going on to Gurdeep and his impolite aggressive and rude response was that it was 'not his problem that I had no cash'.....and the problem was I lived in Halton Hills. I decided not to communicate any further with Gurdeep as he was not understanding of the situation, and of the fact that I had specified upon booking that I would be paying by credit card. The driver then told me he would call the police for non-payment, then decided after another call, and more pacing around my driveway that Gurdeep would accept my cheque. At this point I was terrified, and it was dark and I was alone. I told the driver I would have my husband (who was in another province) call the company to arrange a credit card payment. The driver still refused to leave. My husband called the company and they finally accepted his card for payment...somehow. The driver sat on the road in front of my house until the hit man Gurdeep received payment I guess. I will NEVER use this service again. It was a horrible experience. I had every intention of paying, and sincerely hope this does not happen to anyone else, especially a female travelling alone.   \n",
       "1  First time I tried using them the driver was nowhere to be found. Called and found out he was still 30 minutes away! I understand there is traffic, but your job is to drive. Seriously, look/listen/read the traffic reports. Yes it may have been close to rush hour, so maybe leave a bit earlier? I've never had a problem getting to/from places outside the city on time, so I have a hard time understanding why someone who's job it is to do the same thing can't show up on time. Thought I'd give them another shot as maybe it was just a lazy/poor/uncaring driver. This time, 15 minutes before my pickup time, the driver cancels and I'm told they're finding me another vehicle. How long will that take? Don't know. Great. So I've got 15 minutes to either hail an Uber, or wait for someone to maybe show up. No problem. Should have just used Uber in the first place. In summary, if they happen to be sitting right out front and you can get a reasonable flat rate, fair enough. In any other case, use Uber/Lyft/anything else, or risk being told at the last minute that for whatever reason your car isn't showing up....                                                                                                                                                                                                                                                                                                                                                                                                                                                                                                                                                                                                                                                                                                                                                                                                                                                                                                                                                                                                                                                                                                                                                                                                                                                                                                                                                                                                                                                                                                                                                                                                                                                                                                                                                                                                                                                                                                                                                                                                                                                                                                                                                                                                                             \n",
       "2  Driver picked me up on time at 6AM and even knocked on my door instead of ringing my doorbell, in case people were still sleeping. Was courteous and polite the entire ride. Car was in good shape and didn't smell of smoke. Will definitely use them again!                                                                                                                                                                                                                                                                                                                                                                                                                                                                                                                                                                                                                                                                                                                                                                                                                                                                                                                                                                                                                                                                                                                                                                                                                                                                                                                                                                                                                                                                                                                                                                                                                                                                                                                                                                                                                                                                                                                                                                                                                                                                                                                                                                                                                                                                                                                                                                                                                                                                                                                                                                                                                                                                                                                                                                                                                                                                                                                                                                                                                                                                                                                        \n",
       "3  First time using this taxi and limo company as I have used others. I was very happy with the services provided. I like the online booking and email confirmation with a reference number. I called the day I needed the limo service and the driver arrived a few minutes a head of time.                                                                                                                                                                                                                                                                                                                                                                                                                                                                                                                                                                                                                                                                                                                                                                                                                                                                                                                                                                                                                                                                                                                                                                                                                                                                                                                                                                                                                                                                                                                                                                                                                                                                                                                                                                                                                                                                                                                                                                                                                                                                                                                                                                                                                                                                                                                                                                                                                                                                                                                                                                                                                                                                                                                                                                                                                                                                                                                                                                                                                                                                                            \n",
       "4  Great experience. Driver was early and was very friendly. Got me there early and was a smooth driver. Car was clean and well maintained.                                                                                                                                                                                                                                                                                                                                                                                                                                                                                                                                                                                                                                                                                                                                                                                                                                                                                                                                                                                                                                                                                                                                                                                                                                                                                                                                                                                                                                                                                                                                                                                                                                                                                                                                                                                                                                                                                                                                                                                                                                                                                                                                                                                                                                                                                                                                                                                                                                                                                                                                                                                                                                                                                                                                                                                                                                                                                                                                                                                                                                                                                                                                                                                                                                             \n",
       "\n",
       "     Star  \n",
       "0  1-star  \n",
       "1  1-star  \n",
       "2  5-star  \n",
       "3  5-star  \n",
       "4  5-star  "
      ]
     },
     "execution_count": 7,
     "metadata": {},
     "output_type": "execute_result"
    }
   ],
   "source": [
    "hotels_travel_dataset = pd.DataFrame(hotels_travel_reviews_value)\n",
    "hotels_travel_dataset.columns = ['Review Text','Star']\n",
    "hotels_travel_dataset.head()"
   ]
  },
  {
   "cell_type": "code",
   "execution_count": 8,
   "metadata": {},
   "outputs": [],
   "source": [
    "export_csv = hotels_travel_dataset.to_csv (r'hotels_travel_dataset.csv', index = None, header=True)"
   ]
  },
  {
   "cell_type": "markdown",
   "metadata": {},
   "source": [
    "Loading the data from the CSV files which was created in the above step"
   ]
  },
  {
   "cell_type": "code",
   "execution_count": 9,
   "metadata": {},
   "outputs": [],
   "source": [
    "bars_dataset=pd.read_csv(\"bars_dataset.csv\")"
   ]
  },
  {
   "cell_type": "code",
   "execution_count": 10,
   "metadata": {},
   "outputs": [],
   "source": [
    "hotels_travel_dataset=pd.read_csv(\"hotels_travel_dataset.csv\")"
   ]
  },
  {
   "cell_type": "markdown",
   "metadata": {},
   "source": [
    "Checking the Number of records in the Bars category"
   ]
  },
  {
   "cell_type": "code",
   "execution_count": 11,
   "metadata": {},
   "outputs": [
    {
     "data": {
      "text/plain": [
       "1460"
      ]
     },
     "execution_count": 11,
     "metadata": {},
     "output_type": "execute_result"
    }
   ],
   "source": [
    "len(bars_dataset)"
   ]
  },
  {
   "cell_type": "markdown",
   "metadata": {},
   "source": [
    "Checking the Number of records in the Hotels and travel category"
   ]
  },
  {
   "cell_type": "code",
   "execution_count": 12,
   "metadata": {},
   "outputs": [
    {
     "data": {
      "text/plain": [
       "1430"
      ]
     },
     "execution_count": 12,
     "metadata": {},
     "output_type": "execute_result"
    }
   ],
   "source": [
    "len(hotels_travel_dataset)"
   ]
  },
  {
   "cell_type": "markdown",
   "metadata": {},
   "source": [
    "<b>This shows that all the records were successfully scrapped from the URL provided. Number of records in the dataset matches the number of reviews mentioned of the webpage</b>\n",
    "<img src=\"number_of_reviews.png\" height=300, width=300></img>"
   ]
  },
  {
   "cell_type": "markdown",
   "metadata": {},
   "source": [
    "Defining a function which returns whether the review is “positive” or “negative” based on the star rating. For this assignment, we are assuming that 1-star to 3-star reviews are “negative”, and 4-star to 5-star reviews as “positive”. "
   ]
  },
  {
   "cell_type": "code",
   "execution_count": 13,
   "metadata": {},
   "outputs": [],
   "source": [
    "def Positive_Negative_Based_On_Stars(star_text):\n",
    "    number_of_stars=int(star_text[0])\n",
    "    if 1 <= number_of_stars <= 3:\n",
    "        return \"Negative\"\n",
    "    elif 4 <= number_of_stars <= 5:\n",
    "        return \"Postive\"\n",
    "    "
   ]
  },
  {
   "cell_type": "markdown",
   "metadata": {},
   "source": [
    "Creating a new column <b> 'class_label' </b>which classify review as \"positive\" or \"negative\" based on the star rating. In this for each value in the column 'Star', we are calling <b> Positive_Negative_Based_On_Stars function </b>, which return \"positive\" or \"negative\" value. We are then storing this value in the new column."
   ]
  },
  {
   "cell_type": "code",
   "execution_count": 14,
   "metadata": {},
   "outputs": [],
   "source": [
    "bars_dataset['class_label'] =\\\n",
    "bars_dataset['Star'].apply(lambda x: Positive_Negative_Based_On_Stars(x))"
   ]
  },
  {
   "cell_type": "code",
   "execution_count": 15,
   "metadata": {},
   "outputs": [
    {
     "data": {
      "text/html": [
       "<div>\n",
       "<style scoped>\n",
       "    .dataframe tbody tr th:only-of-type {\n",
       "        vertical-align: middle;\n",
       "    }\n",
       "\n",
       "    .dataframe tbody tr th {\n",
       "        vertical-align: top;\n",
       "    }\n",
       "\n",
       "    .dataframe thead th {\n",
       "        text-align: right;\n",
       "    }\n",
       "</style>\n",
       "<table border=\"1\" class=\"dataframe\">\n",
       "  <thead>\n",
       "    <tr style=\"text-align: right;\">\n",
       "      <th></th>\n",
       "      <th>Review Text</th>\n",
       "      <th>Star</th>\n",
       "      <th>class_label</th>\n",
       "    </tr>\n",
       "  </thead>\n",
       "  <tbody>\n",
       "    <tr>\n",
       "      <th>0</th>\n",
       "      <td>It would help if the front girl don't just sit us down and not ask us for drinks or put us with a waitress. Instead, let us just sit here for almost an hour unattended! If it's time for you to clock out then it's not our problem. But if you're gonna seat us be more professional about it at least then leave!</td>\n",
       "      <td>3-star</td>\n",
       "      <td>Negative</td>\n",
       "    </tr>\n",
       "  </tbody>\n",
       "</table>\n",
       "</div>"
      ],
      "text/plain": [
       "                                                                                                                                                                                                                                                                                                            Review Text  \\\n",
       "0  It would help if the front girl don't just sit us down and not ask us for drinks or put us with a waitress. Instead, let us just sit here for almost an hour unattended! If it's time for you to clock out then it's not our problem. But if you're gonna seat us be more professional about it at least then leave!   \n",
       "\n",
       "     Star class_label  \n",
       "0  3-star  Negative    "
      ]
     },
     "execution_count": 15,
     "metadata": {},
     "output_type": "execute_result"
    }
   ],
   "source": [
    "bars_dataset.head(1)"
   ]
  },
  {
   "cell_type": "markdown",
   "metadata": {},
   "source": [
    "Doing the same for hotels and travel dataset"
   ]
  },
  {
   "cell_type": "code",
   "execution_count": 16,
   "metadata": {},
   "outputs": [],
   "source": [
    "hotels_travel_dataset['class_label'] = \\\n",
    "hotels_travel_dataset['Star'].apply(lambda x: Positive_Negative_Based_On_Stars(x))"
   ]
  },
  {
   "cell_type": "code",
   "execution_count": 17,
   "metadata": {},
   "outputs": [
    {
     "data": {
      "text/html": [
       "<div>\n",
       "<style scoped>\n",
       "    .dataframe tbody tr th:only-of-type {\n",
       "        vertical-align: middle;\n",
       "    }\n",
       "\n",
       "    .dataframe tbody tr th {\n",
       "        vertical-align: top;\n",
       "    }\n",
       "\n",
       "    .dataframe thead th {\n",
       "        text-align: right;\n",
       "    }\n",
       "</style>\n",
       "<table border=\"1\" class=\"dataframe\">\n",
       "  <thead>\n",
       "    <tr style=\"text-align: right;\">\n",
       "      <th></th>\n",
       "      <th>Review Text</th>\n",
       "      <th>Star</th>\n",
       "      <th>class_label</th>\n",
       "    </tr>\n",
       "  </thead>\n",
       "  <tbody>\n",
       "    <tr>\n",
       "      <th>0</th>\n",
       "      <td>I have used this service before and was satisfied, until June 20, 2018. I prearranged via telephone a pickup from Terminal 3 to Georgetown and clearly specified a credit card would be used for payment to the driver. The car 570L arrived quickly and was clean and the drive uneventful. When it came time to pay I presented my MasterCard and that's when the problem started. The driver found he had no connection on his payment device. He tried several times to put the card throug, he even tried to put his own card through at one paint in this debacle, and each time the unit said 'no connection'. He then tried driving the car (with me in it) off my property and up and down the street in search of an internet connection, at one point he drove me to an auto repair facility up the road, stopping along the way and staying parked in the auto parking lot trying to obtain internet service. I finally asked after a very extended period to please return to my property to sort it out. It was getting dark and I was travelling alone and getting anxious. I only had a credit card in which to pay with. He proceeded to suggest that he would drive me into Georgetown to an ATM to get money. I said no to this as it would add another 20 minutes to this lengthy ordeal of being trapped in the car.i offered him a cheque which was the only other logical option. H e said no to that idea. He then proceeded to call his dispatch office and I could hear every word. They told him they could not take payments via this route as he was desperately trying to get someone to process my card payment. Then he called 'Gurdeep\", whoever that is, who told him to try charging his unit. He then spent at least 20 minutes looking over every inch of his car for his charger .....to no avail. I insisted after 45 minutes that I was leaving and going into my home and that a cheque would be the only option. He refused to leave my property. I went inside leaving him to pace around my driveway in the dark on the phone with Gurdeep. After another period of home the driver came to my door and asked me to speak to Gurdeep. I explained what was going on to Gurdeep and his impolite aggressive and rude response was that it was 'not his problem that I had no cash'.....and the problem was I lived in Halton Hills. I decided not to communicate any further with Gurdeep as he was not understanding of the situation, and of the fact that I had specified upon booking that I would be paying by credit card. The driver then told me he would call the police for non-payment, then decided after another call, and more pacing around my driveway that Gurdeep would accept my cheque. At this point I was terrified, and it was dark and I was alone. I told the driver I would have my husband (who was in another province) call the company to arrange a credit card payment. The driver still refused to leave. My husband called the company and they finally accepted his card for payment...somehow. The driver sat on the road in front of my house until the hit man Gurdeep received payment I guess. I will NEVER use this service again. It was a horrible experience. I had every intention of paying, and sincerely hope this does not happen to anyone else, especially a female travelling alone.</td>\n",
       "      <td>1-star</td>\n",
       "      <td>Negative</td>\n",
       "    </tr>\n",
       "  </tbody>\n",
       "</table>\n",
       "</div>"
      ],
      "text/plain": [
       "                                                                                                                                                                                                                                                                                                                                                                                                                                                                                                                                                                                                                                                                                                                                                                                                                                                                                                                                                                                                                                                                                                                                                                                                                                                                                                                                                                                                                                                                                                                                                                                                                                                                                                                                                                                                                                                                                                                                                                                                                                                                                                                                                                                                                                                                                                                                                                                                                                                                                                                                                                                                                                                                                                                                                                                                                                                                                                                                                                                                                                                                                                                                                                                                                                                                                                                                                                          Review Text  \\\n",
       "0  I have used this service before and was satisfied, until June 20, 2018. I prearranged via telephone a pickup from Terminal 3 to Georgetown and clearly specified a credit card would be used for payment to the driver. The car 570L arrived quickly and was clean and the drive uneventful. When it came time to pay I presented my MasterCard and that's when the problem started. The driver found he had no connection on his payment device. He tried several times to put the card throug, he even tried to put his own card through at one paint in this debacle, and each time the unit said 'no connection'. He then tried driving the car (with me in it) off my property and up and down the street in search of an internet connection, at one point he drove me to an auto repair facility up the road, stopping along the way and staying parked in the auto parking lot trying to obtain internet service. I finally asked after a very extended period to please return to my property to sort it out. It was getting dark and I was travelling alone and getting anxious. I only had a credit card in which to pay with. He proceeded to suggest that he would drive me into Georgetown to an ATM to get money. I said no to this as it would add another 20 minutes to this lengthy ordeal of being trapped in the car.i offered him a cheque which was the only other logical option. H e said no to that idea. He then proceeded to call his dispatch office and I could hear every word. They told him they could not take payments via this route as he was desperately trying to get someone to process my card payment. Then he called 'Gurdeep\", whoever that is, who told him to try charging his unit. He then spent at least 20 minutes looking over every inch of his car for his charger .....to no avail. I insisted after 45 minutes that I was leaving and going into my home and that a cheque would be the only option. He refused to leave my property. I went inside leaving him to pace around my driveway in the dark on the phone with Gurdeep. After another period of home the driver came to my door and asked me to speak to Gurdeep. I explained what was going on to Gurdeep and his impolite aggressive and rude response was that it was 'not his problem that I had no cash'.....and the problem was I lived in Halton Hills. I decided not to communicate any further with Gurdeep as he was not understanding of the situation, and of the fact that I had specified upon booking that I would be paying by credit card. The driver then told me he would call the police for non-payment, then decided after another call, and more pacing around my driveway that Gurdeep would accept my cheque. At this point I was terrified, and it was dark and I was alone. I told the driver I would have my husband (who was in another province) call the company to arrange a credit card payment. The driver still refused to leave. My husband called the company and they finally accepted his card for payment...somehow. The driver sat on the road in front of my house until the hit man Gurdeep received payment I guess. I will NEVER use this service again. It was a horrible experience. I had every intention of paying, and sincerely hope this does not happen to anyone else, especially a female travelling alone.   \n",
       "\n",
       "     Star class_label  \n",
       "0  1-star  Negative    "
      ]
     },
     "execution_count": 17,
     "metadata": {},
     "output_type": "execute_result"
    }
   ],
   "source": [
    "hotels_travel_dataset.head(1)"
   ]
  },
  {
   "cell_type": "code",
   "execution_count": 18,
   "metadata": {},
   "outputs": [
    {
     "data": {
      "text/html": [
       "<div>\n",
       "<style scoped>\n",
       "    .dataframe tbody tr th:only-of-type {\n",
       "        vertical-align: middle;\n",
       "    }\n",
       "\n",
       "    .dataframe tbody tr th {\n",
       "        vertical-align: top;\n",
       "    }\n",
       "\n",
       "    .dataframe thead th {\n",
       "        text-align: right;\n",
       "    }\n",
       "</style>\n",
       "<table border=\"1\" class=\"dataframe\">\n",
       "  <thead>\n",
       "    <tr style=\"text-align: right;\">\n",
       "      <th></th>\n",
       "      <th>Review Text</th>\n",
       "      <th>Star</th>\n",
       "    </tr>\n",
       "    <tr>\n",
       "      <th>class_label</th>\n",
       "      <th></th>\n",
       "      <th></th>\n",
       "    </tr>\n",
       "  </thead>\n",
       "  <tbody>\n",
       "    <tr>\n",
       "      <th>Negative</th>\n",
       "      <td>637</td>\n",
       "      <td>637</td>\n",
       "    </tr>\n",
       "    <tr>\n",
       "      <th>Postive</th>\n",
       "      <td>793</td>\n",
       "      <td>793</td>\n",
       "    </tr>\n",
       "  </tbody>\n",
       "</table>\n",
       "</div>"
      ],
      "text/plain": [
       "             Review Text  Star\n",
       "class_label                   \n",
       "Negative     637          637 \n",
       "Postive      793          793 "
      ]
     },
     "execution_count": 18,
     "metadata": {},
     "output_type": "execute_result"
    }
   ],
   "source": [
    "hotels_travel_dataset.groupby(['class_label']).count()"
   ]
  },
  {
   "cell_type": "code",
   "execution_count": 19,
   "metadata": {},
   "outputs": [
    {
     "data": {
      "text/html": [
       "<div>\n",
       "<style scoped>\n",
       "    .dataframe tbody tr th:only-of-type {\n",
       "        vertical-align: middle;\n",
       "    }\n",
       "\n",
       "    .dataframe tbody tr th {\n",
       "        vertical-align: top;\n",
       "    }\n",
       "\n",
       "    .dataframe thead th {\n",
       "        text-align: right;\n",
       "    }\n",
       "</style>\n",
       "<table border=\"1\" class=\"dataframe\">\n",
       "  <thead>\n",
       "    <tr style=\"text-align: right;\">\n",
       "      <th></th>\n",
       "      <th>Review Text</th>\n",
       "      <th>Star</th>\n",
       "    </tr>\n",
       "    <tr>\n",
       "      <th>class_label</th>\n",
       "      <th></th>\n",
       "      <th></th>\n",
       "    </tr>\n",
       "  </thead>\n",
       "  <tbody>\n",
       "    <tr>\n",
       "      <th>Negative</th>\n",
       "      <td>565</td>\n",
       "      <td>565</td>\n",
       "    </tr>\n",
       "    <tr>\n",
       "      <th>Postive</th>\n",
       "      <td>895</td>\n",
       "      <td>895</td>\n",
       "    </tr>\n",
       "  </tbody>\n",
       "</table>\n",
       "</div>"
      ],
      "text/plain": [
       "             Review Text  Star\n",
       "class_label                   \n",
       "Negative     565          565 \n",
       "Postive      895          895 "
      ]
     },
     "execution_count": 19,
     "metadata": {},
     "output_type": "execute_result"
    }
   ],
   "source": [
    "bars_dataset.groupby(['class_label']).count()"
   ]
  },
  {
   "cell_type": "markdown",
   "metadata": {},
   "source": [
    "## Task 2\n",
    "\n",
    "For both category datasets: <br>\n",
    "a. From the reviews in this category, apply appropriate preprocessing steps to\n",
    "create a numeric representation of the data, suitable for classification.<br>\n",
    "b. Build a classification model using a classifier of your choice, to distinguish\n",
    "between “positive” and “negative” reviews.<br>\n",
    "c. Test the predictions of the classification model using an appropriate\n",
    "evaluation strategy. Report and discuss the evaluation results in your\n",
    "notebook"
   ]
  },
  {
   "cell_type": "markdown",
   "metadata": {},
   "source": [
    "## Category 1 - Hotels and travel"
   ]
  },
  {
   "cell_type": "markdown",
   "metadata": {},
   "source": [
    "For this task, we just need two columns 'Review Text' and 'class_label'. "
   ]
  },
  {
   "cell_type": "code",
   "execution_count": 20,
   "metadata": {},
   "outputs": [],
   "source": [
    "X=hotels_travel_dataset['Review Text'].values\n",
    "Y=hotels_travel_dataset['class_label'].values"
   ]
  },
  {
   "cell_type": "markdown",
   "metadata": {},
   "source": [
    "First we need to split the data in <b>training</b> and <b>test dataset</b>. Training dataset is used to train the model and create the document-term matrix. We are also using it to perform <b> parameter tuning </b> of the model. Once we have our model ready, we are predicting the values on the test dataset to find the accuracy and to create a confusion matrix. We are splitting the data into 70% training set and 30% test set. "
   ]
  },
  {
   "cell_type": "code",
   "execution_count": 21,
   "metadata": {},
   "outputs": [],
   "source": [
    "train_documents, test_documents, train_target, test_target = train_test_split(X, Y, random_state=0,\\\n",
    "                                                                              train_size = 0.7,test_size=0.3)"
   ]
  },
  {
   "cell_type": "markdown",
   "metadata": {},
   "source": [
    "We are then transforming our list of Review text into a document-term matrix by applying some pre-processing steps. We are using <b>TF-IDF </b>for weighting the score for a term in a document. In this way we are improving the usefulness of the document-term matrix as this will give higher weights to more important terms by looking at the inverse document frequency(total number of distinct documents containing a term), along with term frequency.     \n",
    "\n",
    "Pre-processing steps performed to create a numeric representation of the data are-\n",
    "\n",
    "1) <b>Minimum term length</b>: Excluding terms of length < 2. Scikit-learn does this by default. <br>\n",
    "2) <b>Case conversion</b>: Converting all terms to lowercase. Scikit-learn does this by default.<br>\n",
    "3)<b> Stop-word filtering</b>: It involves removing terms which  appear frequently but doesn't convey useful information. We have handled this in our custom tokenizer function (lemma_tokenizer).<br>\n",
    "4) <b>Low frequency filtering</b>: Remove terms that appear in very few documents. In our case we have set min_df to 3. This means that the world should be present in atleast 3 documents to be considered in document-term matrix.<br>\n",
    "5) <b>Lemmatisation</b>- It is a process of reducing a word to its canonical form. We have handled this in our custom tokenizer function (lemma_tokenizer)<br>\n",
    "\n",
    "<b>lemma_tokenizer(text)</b> - This is the common function which will be used to tokenize the text, which is the first step in analysing documents. It is used to split the raw text into individual tokens, each corresponding to a single word. This function takes the input text and creates tokens using CountVectorizer(). Then with the help of WordNetLemmatizer object we perform Lemmatization. We have also created a set of stopwords. For each token, we check if that word is a stopword or not. If it is not a stopword, then we lemmatize that word and append the result in the list otherwise we skip that word. At the end we will have a list which contains the lemmatized version of the tokens."
   ]
  },
  {
   "cell_type": "code",
   "execution_count": 22,
   "metadata": {},
   "outputs": [],
   "source": [
    "#Function used to handle Lemmatisation and Stopwords removal\n",
    "def lemma_tokenizer(text):\n",
    "    # use the standard scikit-learn tokenizer first\n",
    "    standard_tokenizer = CountVectorizer().build_tokenizer()\n",
    "    tokens = standard_tokenizer(text)\n",
    "    # then use NLTK to perform lemmatisation on each token\n",
    "    lemmatizer = nltk.stem.WordNetLemmatizer()\n",
    "    lemma_tokens = []\n",
    "    stop_words = set(stopwords.words('english')) \n",
    "    for token in tokens:\n",
    "        if token not in stop_words:\n",
    "            lemma_tokens.append( lemmatizer.lemmatize(token) )\n",
    "    return lemma_tokens"
   ]
  },
  {
   "cell_type": "markdown",
   "metadata": {},
   "source": [
    "Using <b>TfidfVectorizer</b> function of sklearn we will create a document-term matrix on train_document. Inside this function we have specified the pre-processing steps it should consider. We have set min_df=3 and have passed a custom tokenizer to handle lemmatisation and stop words removal. It converts text to lowercase and excludes terms of length <2. "
   ]
  },
  {
   "cell_type": "code",
   "execution_count": 23,
   "metadata": {},
   "outputs": [
    {
     "name": "stdout",
     "output_type": "stream",
     "text": [
      "(1000, 5100)\n"
     ]
    }
   ],
   "source": [
    "vectorizer = TfidfVectorizer(min_df = 3,tokenizer=lemma_tokenizer,ngram_range=(1, 2))\n",
    "train_data_X = vectorizer.fit_transform(train_documents)\n",
    "print(train_data_X.shape)"
   ]
  },
  {
   "cell_type": "markdown",
   "metadata": {},
   "source": [
    "Now we have our document-term matrix ready. We have created a numeric representation of the data that is suitable for classification. It will be used to train our model. And also our test documents will use the same vocabulary which is created above.  "
   ]
  },
  {
   "cell_type": "code",
   "execution_count": 24,
   "metadata": {},
   "outputs": [
    {
     "name": "stdout",
     "output_type": "stream",
     "text": [
      "(429, 5100)\n"
     ]
    }
   ],
   "source": [
    "test_data_X = vectorizer.transform(test_documents)\n",
    "print(test_data_X.shape)"
   ]
  },
  {
   "cell_type": "markdown",
   "metadata": {},
   "source": [
    "We have create document-term matrix from test documents by calling transform() method to use the same vocabulary as the of training dataset. We will use text_X in the below models for testing purpose. It will be used when we are testing for Simple Hold Out Approach."
   ]
  },
  {
   "cell_type": "markdown",
   "metadata": {},
   "source": [
    "For <b>cross-validation</b> we need document term matrix on entire dataset. In that approach we are not dividing our dataset in training and testing. Following steps are performed for K-Fold Cross Validation :- \n",
    "\n",
    "1. We first divide our data into k disjoint subsets known as “folds”<br/>\n",
    "2. Then for each of k experiments, we use k-1 folds for training and the\n",
    "selected one fold for testing <br/>\n",
    "3. We repeat this process for all k folds and at the end we find the average accuracy rates."
   ]
  },
  {
   "cell_type": "code",
   "execution_count": 25,
   "metadata": {},
   "outputs": [
    {
     "name": "stdout",
     "output_type": "stream",
     "text": [
      "(1430, 7011)\n"
     ]
    }
   ],
   "source": [
    "vectorizer_dataset = TfidfVectorizer(min_df = 3,tokenizer=lemma_tokenizer)\n",
    "dataset_X = vectorizer.fit_transform(X)\n",
    "print(dataset_X.shape)"
   ]
  },
  {
   "cell_type": "markdown",
   "metadata": {},
   "source": [
    "### Build a classification model using a classifier of your choice, to distinguish between “positive” and “negative” reviews."
   ]
  },
  {
   "cell_type": "code",
   "execution_count": 26,
   "metadata": {},
   "outputs": [],
   "source": [
    "model_testdata_accuracy_comparisons = dict()\n",
    "model_testdata_f1_comparisons=dict()\n",
    "model_cross_validation_accuracy_comparisons = dict()"
   ]
  },
  {
   "cell_type": "markdown",
   "metadata": {},
   "source": [
    "I have used k-nearest neighbors to perfrom the classification. In this we look at the k nearest neighbour to find out the label for new instance. First I have created the mdoel where value of K=3. First I am using simple hold out approach to perform the evaluation "
   ]
  },
  {
   "cell_type": "code",
   "execution_count": 27,
   "metadata": {},
   "outputs": [
    {
     "data": {
      "text/plain": [
       "KNeighborsClassifier(algorithm='auto', leaf_size=30, metric='minkowski',\n",
       "           metric_params=None, n_jobs=None, n_neighbors=3, p=2,\n",
       "           weights='uniform')"
      ]
     },
     "execution_count": 27,
     "metadata": {},
     "output_type": "execute_result"
    }
   ],
   "source": [
    "model = KNeighborsClassifier(n_neighbors=3)\n",
    "model.fit(train_data_X, train_target)"
   ]
  },
  {
   "cell_type": "markdown",
   "metadata": {},
   "source": [
    "Now, we are making predictions on the test dataset and comparing it's value with the actual result to find the accuracy score. We are also creating a confusion matrix, which summarises different aspects of classifier performance"
   ]
  },
  {
   "cell_type": "code",
   "execution_count": 28,
   "metadata": {},
   "outputs": [
    {
     "name": "stdout",
     "output_type": "stream",
     "text": [
      "Accuracy: 0.8251748251748252\n",
      "              precision    recall  f1-score   support\n",
      "\n",
      "    Negative       0.82      0.78      0.80       194\n",
      "     Postive       0.83      0.86      0.84       235\n",
      "\n",
      "   micro avg       0.83      0.83      0.83       429\n",
      "   macro avg       0.82      0.82      0.82       429\n",
      "weighted avg       0.83      0.83      0.82       429\n",
      "\n",
      "Confusion Matrix\n"
     ]
    },
    {
     "data": {
      "text/html": [
       "<div>\n",
       "<style scoped>\n",
       "    .dataframe tbody tr th:only-of-type {\n",
       "        vertical-align: middle;\n",
       "    }\n",
       "\n",
       "    .dataframe tbody tr th {\n",
       "        vertical-align: top;\n",
       "    }\n",
       "\n",
       "    .dataframe thead th {\n",
       "        text-align: right;\n",
       "    }\n",
       "</style>\n",
       "<table border=\"1\" class=\"dataframe\">\n",
       "  <thead>\n",
       "    <tr style=\"text-align: right;\">\n",
       "      <th>Predicted</th>\n",
       "      <th>Negative</th>\n",
       "      <th>Postive</th>\n",
       "      <th>All</th>\n",
       "    </tr>\n",
       "    <tr>\n",
       "      <th>True</th>\n",
       "      <th></th>\n",
       "      <th></th>\n",
       "      <th></th>\n",
       "    </tr>\n",
       "  </thead>\n",
       "  <tbody>\n",
       "    <tr>\n",
       "      <th>Negative</th>\n",
       "      <td>152</td>\n",
       "      <td>42</td>\n",
       "      <td>194</td>\n",
       "    </tr>\n",
       "    <tr>\n",
       "      <th>Postive</th>\n",
       "      <td>33</td>\n",
       "      <td>202</td>\n",
       "      <td>235</td>\n",
       "    </tr>\n",
       "    <tr>\n",
       "      <th>All</th>\n",
       "      <td>185</td>\n",
       "      <td>244</td>\n",
       "      <td>429</td>\n",
       "    </tr>\n",
       "  </tbody>\n",
       "</table>\n",
       "</div>"
      ],
      "text/plain": [
       "Predicted  Negative  Postive  All\n",
       "True                             \n",
       "Negative   152       42       194\n",
       "Postive    33        202      235\n",
       "All        185       244      429"
      ]
     },
     "execution_count": 28,
     "metadata": {},
     "output_type": "execute_result"
    }
   ],
   "source": [
    "# Make a set of predictions for the test data\n",
    "y_pred = model.predict(test_data_X)\n",
    "\n",
    "# Print performance details\n",
    "accuracy = metrics.accuracy_score(test_target, y_pred) # , normalize=True, sample_weight=None\n",
    "model_testdata_accuracy_comparisons[\"KNN(K=3)\"] = accuracy\n",
    "print(\"Accuracy: \" +  str(accuracy))\n",
    "print(metrics.classification_report(test_target, y_pred))\n",
    "report = metrics.classification_report(test_target, y_pred)\n",
    "model_testdata_f1_comparisons[\"KNN(K=3)\"] = report.split('\\n')[-2].split('      ')[3]\n",
    "# Print confusion matrix\n",
    "print(\"Confusion Matrix\")\n",
    "pd.crosstab(test_target, y_pred, rownames=['True'], colnames=['Predicted'], margins=True)"
   ]
  },
  {
   "cell_type": "markdown",
   "metadata": {},
   "source": [
    "We are getting 82.5% accuracy by performing simple hold out approach. In this model we have set value of k=3. But we can perform some parameter tuning to improve the performance"
   ]
  },
  {
   "cell_type": "markdown",
   "metadata": {},
   "source": [
    "<b>Hyper Parameters Tuning of KNN model using Grid Search </b>"
   ]
  },
  {
   "cell_type": "markdown",
   "metadata": {},
   "source": [
    "First we define the parameter values that should be tuned. In our case we want to find the best value of k in the range of 1 to 20. We create a parameter grid which maps the parameter names to the values that should be searched. It is a dictionary where key is the parameter name and value is the list of values that should be searched for that parameter. Then we instatiate the Grid by specifying the model, parameter grid, number of fold to perform cross validation and what scoring should be use to find the best parameter. We are using training dataset to perform the hyper parameter tuning of our model "
   ]
  },
  {
   "cell_type": "code",
   "execution_count": 29,
   "metadata": {},
   "outputs": [],
   "source": [
    "k_range = list(range(1, 20))\n",
    "param_grid = dict(n_neighbors=k_range)"
   ]
  },
  {
   "cell_type": "code",
   "execution_count": 30,
   "metadata": {},
   "outputs": [
    {
     "data": {
      "text/plain": [
       "GridSearchCV(cv=5, error_score='raise-deprecating',\n",
       "       estimator=KNeighborsClassifier(algorithm='auto', leaf_size=30, metric='cosine',\n",
       "           metric_params=None, n_jobs=None, n_neighbors=5, p=2,\n",
       "           weights='uniform'),\n",
       "       fit_params=None, iid='warn', n_jobs=None,\n",
       "       param_grid={'n_neighbors': [1, 2, 3, 4, 5, 6, 7, 8, 9, 10, 11, 12, 13, 14, 15, 16, 17, 18, 19]},\n",
       "       pre_dispatch='2*n_jobs', refit=True, return_train_score='warn',\n",
       "       scoring='accuracy', verbose=0)"
      ]
     },
     "execution_count": 30,
     "metadata": {},
     "output_type": "execute_result"
    }
   ],
   "source": [
    "# instantiate the grid\n",
    "grid = GridSearchCV(KNeighborsClassifier(metric='cosine'), param_grid, cv=5, scoring='accuracy')\n",
    "grid.fit(train_data_X, train_target)"
   ]
  },
  {
   "cell_type": "code",
   "execution_count": 31,
   "metadata": {},
   "outputs": [
    {
     "name": "stdout",
     "output_type": "stream",
     "text": [
      "Best parameters set found on training set:\n"
     ]
    },
    {
     "data": {
      "text/plain": [
       "{'n_neighbors': 13}"
      ]
     },
     "metadata": {},
     "output_type": "display_data"
    },
    {
     "data": {
      "text/plain": [
       "0.844"
      ]
     },
     "metadata": {},
     "output_type": "display_data"
    }
   ],
   "source": [
    "# Print details\n",
    "print(\"Best parameters set found on training set:\")\n",
    "display(grid.best_params_)\n",
    "display(grid.best_score_)"
   ]
  },
  {
   "cell_type": "markdown",
   "metadata": {},
   "source": [
    "We can see from the above results that when k=13, we get the best accuracy."
   ]
  },
  {
   "cell_type": "markdown",
   "metadata": {},
   "source": [
    "### Using the best parameters to make predictions on the test dataset"
   ]
  },
  {
   "cell_type": "code",
   "execution_count": 32,
   "metadata": {},
   "outputs": [
    {
     "data": {
      "text/plain": [
       "KNeighborsClassifier(algorithm='auto', leaf_size=30, metric='cosine',\n",
       "           metric_params=None, n_jobs=None, n_neighbors=13, p=2,\n",
       "           weights='uniform')"
      ]
     },
     "execution_count": 32,
     "metadata": {},
     "output_type": "execute_result"
    }
   ],
   "source": [
    "# instantiate model with best parameters\n",
    "knn = KNeighborsClassifier(n_neighbors=13, metric='cosine')\n",
    "knn.fit(train_data_X, train_target)"
   ]
  },
  {
   "cell_type": "markdown",
   "metadata": {},
   "source": [
    "Now, we are making <b>predictions</b> on the <b>test dataset</b> and comparing it's value with the actual result to find the accuracy score. We are also creating a confusion matrix, which summarises different aspects of classifier\n",
    "performance. Below are the interpretation of the terms in confusion matrix according to our problem statement.\n",
    "<ul>\n",
    "    <li>TP = Positive Review correctly predicted as Positive </li>\n",
    "    <li>FP = Negative Review incorrectly predicted as Postive</li>\n",
    "    <li>TN = Negative Review correctly predicted as Negative</li>\n",
    "    <li>FN = Positive Review incorrectly predicted as Negative </li>\n",
    "</ul>\n"
   ]
  },
  {
   "cell_type": "code",
   "execution_count": 33,
   "metadata": {},
   "outputs": [
    {
     "name": "stdout",
     "output_type": "stream",
     "text": [
      "Accuracy: 0.8461538461538461\n",
      "              precision    recall  f1-score   support\n",
      "\n",
      "    Negative       0.83      0.82      0.83       194\n",
      "     Postive       0.86      0.86      0.86       235\n",
      "\n",
      "   micro avg       0.85      0.85      0.85       429\n",
      "   macro avg       0.84      0.84      0.84       429\n",
      "weighted avg       0.85      0.85      0.85       429\n",
      "\n",
      "Confusion Matrix\n"
     ]
    },
    {
     "data": {
      "text/html": [
       "<div>\n",
       "<style scoped>\n",
       "    .dataframe tbody tr th:only-of-type {\n",
       "        vertical-align: middle;\n",
       "    }\n",
       "\n",
       "    .dataframe tbody tr th {\n",
       "        vertical-align: top;\n",
       "    }\n",
       "\n",
       "    .dataframe thead th {\n",
       "        text-align: right;\n",
       "    }\n",
       "</style>\n",
       "<table border=\"1\" class=\"dataframe\">\n",
       "  <thead>\n",
       "    <tr style=\"text-align: right;\">\n",
       "      <th>Predicted</th>\n",
       "      <th>Negative</th>\n",
       "      <th>Postive</th>\n",
       "      <th>All</th>\n",
       "    </tr>\n",
       "    <tr>\n",
       "      <th>True</th>\n",
       "      <th></th>\n",
       "      <th></th>\n",
       "      <th></th>\n",
       "    </tr>\n",
       "  </thead>\n",
       "  <tbody>\n",
       "    <tr>\n",
       "      <th>Negative</th>\n",
       "      <td>160</td>\n",
       "      <td>34</td>\n",
       "      <td>194</td>\n",
       "    </tr>\n",
       "    <tr>\n",
       "      <th>Postive</th>\n",
       "      <td>32</td>\n",
       "      <td>203</td>\n",
       "      <td>235</td>\n",
       "    </tr>\n",
       "    <tr>\n",
       "      <th>All</th>\n",
       "      <td>192</td>\n",
       "      <td>237</td>\n",
       "      <td>429</td>\n",
       "    </tr>\n",
       "  </tbody>\n",
       "</table>\n",
       "</div>"
      ],
      "text/plain": [
       "Predicted  Negative  Postive  All\n",
       "True                             \n",
       "Negative   160       34       194\n",
       "Postive    32        203      235\n",
       "All        192       237      429"
      ]
     },
     "execution_count": 33,
     "metadata": {},
     "output_type": "execute_result"
    }
   ],
   "source": [
    "# Make a set of predictions for the test data\n",
    "y_pred = knn.predict(test_data_X)\n",
    "\n",
    "# Print performance details\n",
    "accuracy = metrics.accuracy_score(test_target, y_pred) # , normalize=True, sample_weight=None\n",
    "model_testdata_accuracy_comparisons[\"KNN(K=13)\"] = accuracy\n",
    "print(\"Accuracy: \" +  str(accuracy))\n",
    "print(metrics.classification_report(test_target, y_pred))\n",
    "report = metrics.classification_report(test_target, y_pred)\n",
    "model_testdata_f1_comparisons[\"KNN(K=13)\"] = report.split('\\n')[-2].split('      ')[3]\n",
    "# Print confusion matrix\n",
    "print(\"Confusion Matrix\")\n",
    "pd.crosstab(test_target, y_pred, rownames=['True'], colnames=['Predicted'], margins=True)"
   ]
  },
  {
   "cell_type": "markdown",
   "metadata": {},
   "source": [
    "We are getting 84.6% accuracy by performing simple hold out approach on the tuned model. In this model we have set value of k=14."
   ]
  },
  {
   "cell_type": "markdown",
   "metadata": {},
   "source": [
    "We can also use <b>Cross-Validation</b> to measure the performance of the classifier. A problem with simpe random splitting of dataset into two sets is that each random split might give different results. So we can use cross-validation to evaluate the model. In this we are using the tuned KNN model to perform the evaluation."
   ]
  },
  {
   "cell_type": "code",
   "execution_count": 34,
   "metadata": {},
   "outputs": [],
   "source": [
    "tuned_knn = KNeighborsClassifier(n_neighbors=13, metric='cosine')"
   ]
  },
  {
   "cell_type": "code",
   "execution_count": 35,
   "metadata": {},
   "outputs": [
    {
     "name": "stdout",
     "output_type": "stream",
     "text": [
      "[0.82926829 0.81533101 0.84265734 0.7754386  0.85614035]\n"
     ]
    }
   ],
   "source": [
    "scores = cross_val_score(tuned_knn, dataset_X,Y, cv=5, scoring=\"accuracy\")\n",
    "print(scores)"
   ]
  },
  {
   "cell_type": "code",
   "execution_count": 36,
   "metadata": {},
   "outputs": [
    {
     "data": {
      "text/plain": [
       "0.8237671186323304"
      ]
     },
     "execution_count": 36,
     "metadata": {},
     "output_type": "execute_result"
    }
   ],
   "source": [
    "model_cross_validation_accuracy_comparisons[\"KNN(K=14)\"] = scores.mean()\n",
    "scores.mean()"
   ]
  },
  {
   "cell_type": "markdown",
   "metadata": {},
   "source": [
    "We are getting <b>82.3% </b>accuracy with KNN Classifier when we are using Cross-Validation"
   ]
  },
  {
   "cell_type": "markdown",
   "metadata": {},
   "source": [
    "## Other classifiers that can be used to classify reviews as Positive and Negative"
   ]
  },
  {
   "cell_type": "markdown",
   "metadata": {},
   "source": [
    "### 2. Naive Bayes Classifier- \n",
    "In this the classification is based on term frequency counts. It incorrectly assumes all terms are independent, but can still be effective in practice. "
   ]
  },
  {
   "cell_type": "markdown",
   "metadata": {},
   "source": [
    "First we create a model and train it with the help of training dataset. We are using document-term matrix which was created above to train the model. Then we are using test documents for predictions. Again we are using document-term matrix for test documents which was created above."
   ]
  },
  {
   "cell_type": "code",
   "execution_count": 37,
   "metadata": {},
   "outputs": [
    {
     "data": {
      "text/plain": [
       "MultinomialNB(alpha=1.0, class_prior=None, fit_prior=True)"
      ]
     },
     "execution_count": 37,
     "metadata": {},
     "output_type": "execute_result"
    }
   ],
   "source": [
    "nb_model = MultinomialNB()\n",
    "nb_model.fit(train_data_X, train_target)"
   ]
  },
  {
   "cell_type": "markdown",
   "metadata": {},
   "source": [
    "Making prediction and finding the accuracy score and confusion matrix"
   ]
  },
  {
   "cell_type": "code",
   "execution_count": 38,
   "metadata": {},
   "outputs": [
    {
     "name": "stdout",
     "output_type": "stream",
     "text": [
      "Accuracy: 0.8694638694638694\n",
      "              precision    recall  f1-score   support\n",
      "\n",
      "    Negative       0.89      0.81      0.85       194\n",
      "     Postive       0.85      0.92      0.89       235\n",
      "\n",
      "   micro avg       0.87      0.87      0.87       429\n",
      "   macro avg       0.87      0.86      0.87       429\n",
      "weighted avg       0.87      0.87      0.87       429\n",
      "\n",
      "Confusion Matrix\n"
     ]
    },
    {
     "data": {
      "text/html": [
       "<div>\n",
       "<style scoped>\n",
       "    .dataframe tbody tr th:only-of-type {\n",
       "        vertical-align: middle;\n",
       "    }\n",
       "\n",
       "    .dataframe tbody tr th {\n",
       "        vertical-align: top;\n",
       "    }\n",
       "\n",
       "    .dataframe thead th {\n",
       "        text-align: right;\n",
       "    }\n",
       "</style>\n",
       "<table border=\"1\" class=\"dataframe\">\n",
       "  <thead>\n",
       "    <tr style=\"text-align: right;\">\n",
       "      <th>Predicted</th>\n",
       "      <th>Negative</th>\n",
       "      <th>Postive</th>\n",
       "      <th>All</th>\n",
       "    </tr>\n",
       "    <tr>\n",
       "      <th>True</th>\n",
       "      <th></th>\n",
       "      <th></th>\n",
       "      <th></th>\n",
       "    </tr>\n",
       "  </thead>\n",
       "  <tbody>\n",
       "    <tr>\n",
       "      <th>Negative</th>\n",
       "      <td>157</td>\n",
       "      <td>37</td>\n",
       "      <td>194</td>\n",
       "    </tr>\n",
       "    <tr>\n",
       "      <th>Postive</th>\n",
       "      <td>19</td>\n",
       "      <td>216</td>\n",
       "      <td>235</td>\n",
       "    </tr>\n",
       "    <tr>\n",
       "      <th>All</th>\n",
       "      <td>176</td>\n",
       "      <td>253</td>\n",
       "      <td>429</td>\n",
       "    </tr>\n",
       "  </tbody>\n",
       "</table>\n",
       "</div>"
      ],
      "text/plain": [
       "Predicted  Negative  Postive  All\n",
       "True                             \n",
       "Negative   157       37       194\n",
       "Postive    19        216      235\n",
       "All        176       253      429"
      ]
     },
     "execution_count": 38,
     "metadata": {},
     "output_type": "execute_result"
    }
   ],
   "source": [
    "y_pred = nb_model.predict(test_data_X)\n",
    "# Print performance details\n",
    "accuracy = metrics.accuracy_score(test_target, y_pred) # , normalize=True, sample_weight=None\n",
    "model_testdata_accuracy_comparisons[\"Naive Bayes\"] = accuracy\n",
    "print(\"Accuracy: \" +  str(accuracy))\n",
    "print(metrics.classification_report(test_target, y_pred))\n",
    "report = metrics.classification_report(test_target, y_pred)\n",
    "model_testdata_f1_comparisons[\"Naive Bayes\"] = report.split('\\n')[-2].split('      ')[3]\n",
    "# Print confusion matrix\n",
    "print(\"Confusion Matrix\")\n",
    "pd.crosstab(test_target, y_pred, rownames=['True'], colnames=['Predicted'], margins=True)"
   ]
  },
  {
   "cell_type": "markdown",
   "metadata": {},
   "source": [
    "We are getting <b>86.9% accuracy </b>with <b>Naive Bayes Classifier </b> when using Hold-out strategy"
   ]
  },
  {
   "cell_type": "markdown",
   "metadata": {},
   "source": [
    "We can also use <b>Cross-Validation</b> to measure the performance of the classifier. "
   ]
  },
  {
   "cell_type": "code",
   "execution_count": 39,
   "metadata": {},
   "outputs": [],
   "source": [
    "nb_model_cross_validation = MultinomialNB()"
   ]
  },
  {
   "cell_type": "code",
   "execution_count": 40,
   "metadata": {},
   "outputs": [
    {
     "name": "stdout",
     "output_type": "stream",
     "text": [
      "[0.88501742 0.86062718 0.84615385 0.87368421 0.90526316]\n"
     ]
    }
   ],
   "source": [
    "scores = cross_val_score(nb_model_cross_validation, dataset_X,Y, cv=5, scoring=\"accuracy\")\n",
    "print(scores)"
   ]
  },
  {
   "cell_type": "code",
   "execution_count": 41,
   "metadata": {},
   "outputs": [
    {
     "data": {
      "text/plain": [
       "0.874149162775607"
      ]
     },
     "execution_count": 41,
     "metadata": {},
     "output_type": "execute_result"
    }
   ],
   "source": [
    "model_cross_validation_accuracy_comparisons[\"Naive Bayes\"] = scores.mean()\n",
    "scores.mean()"
   ]
  },
  {
   "cell_type": "markdown",
   "metadata": {},
   "source": [
    "We are getting <b>87.4% </b>accuracy with Naive Bayes Classifier when we are using Cross-Validation"
   ]
  },
  {
   "cell_type": "markdown",
   "metadata": {},
   "source": [
    "### 3. SVMs with a linear kernel to calculate document similarity"
   ]
  },
  {
   "cell_type": "markdown",
   "metadata": {},
   "source": [
    "First we create a model and train it with the help of training dataset. We are using document-term matrix which was created above to train the model. Then we are using test documents for predictions. Again we are using document-term matrix for test documents which was created above"
   ]
  },
  {
   "cell_type": "code",
   "execution_count": 42,
   "metadata": {},
   "outputs": [
    {
     "data": {
      "text/plain": [
       "SVC(C=1.0, cache_size=200, class_weight=None, coef0=0.0,\n",
       "  decision_function_shape='ovr', degree=3, gamma='auto_deprecated',\n",
       "  kernel='linear', max_iter=-1, probability=False, random_state=None,\n",
       "  shrinking=True, tol=0.001, verbose=False)"
      ]
     },
     "execution_count": 42,
     "metadata": {},
     "output_type": "execute_result"
    }
   ],
   "source": [
    "svc_model = SVC(kernel='linear')\n",
    "svc_model.fit(train_data_X, train_target)"
   ]
  },
  {
   "cell_type": "markdown",
   "metadata": {},
   "source": [
    "Making prediction and finding the accuracy score and confusion matrix"
   ]
  },
  {
   "cell_type": "code",
   "execution_count": 43,
   "metadata": {},
   "outputs": [
    {
     "name": "stdout",
     "output_type": "stream",
     "text": [
      "Accuracy: 0.8951048951048951\n",
      "              precision    recall  f1-score   support\n",
      "\n",
      "    Negative       0.91      0.85      0.88       194\n",
      "     Postive       0.88      0.93      0.91       235\n",
      "\n",
      "   micro avg       0.90      0.90      0.90       429\n",
      "   macro avg       0.90      0.89      0.89       429\n",
      "weighted avg       0.90      0.90      0.89       429\n",
      "\n",
      "Confusion Matrix\n"
     ]
    },
    {
     "data": {
      "text/html": [
       "<div>\n",
       "<style scoped>\n",
       "    .dataframe tbody tr th:only-of-type {\n",
       "        vertical-align: middle;\n",
       "    }\n",
       "\n",
       "    .dataframe tbody tr th {\n",
       "        vertical-align: top;\n",
       "    }\n",
       "\n",
       "    .dataframe thead th {\n",
       "        text-align: right;\n",
       "    }\n",
       "</style>\n",
       "<table border=\"1\" class=\"dataframe\">\n",
       "  <thead>\n",
       "    <tr style=\"text-align: right;\">\n",
       "      <th>Predicted</th>\n",
       "      <th>Negative</th>\n",
       "      <th>Postive</th>\n",
       "      <th>All</th>\n",
       "    </tr>\n",
       "    <tr>\n",
       "      <th>True</th>\n",
       "      <th></th>\n",
       "      <th></th>\n",
       "      <th></th>\n",
       "    </tr>\n",
       "  </thead>\n",
       "  <tbody>\n",
       "    <tr>\n",
       "      <th>Negative</th>\n",
       "      <td>165</td>\n",
       "      <td>29</td>\n",
       "      <td>194</td>\n",
       "    </tr>\n",
       "    <tr>\n",
       "      <th>Postive</th>\n",
       "      <td>16</td>\n",
       "      <td>219</td>\n",
       "      <td>235</td>\n",
       "    </tr>\n",
       "    <tr>\n",
       "      <th>All</th>\n",
       "      <td>181</td>\n",
       "      <td>248</td>\n",
       "      <td>429</td>\n",
       "    </tr>\n",
       "  </tbody>\n",
       "</table>\n",
       "</div>"
      ],
      "text/plain": [
       "Predicted  Negative  Postive  All\n",
       "True                             \n",
       "Negative   165       29       194\n",
       "Postive    16        219      235\n",
       "All        181       248      429"
      ]
     },
     "execution_count": 43,
     "metadata": {},
     "output_type": "execute_result"
    }
   ],
   "source": [
    "y_pred = svc_model.predict(test_data_X)\n",
    "# Print performance details\n",
    "accuracy = metrics.accuracy_score(test_target, y_pred) # , normalize=True, sample_weight=None\n",
    "model_testdata_accuracy_comparisons[\"SVM (linear kernel)\"] = accuracy\n",
    "print(\"Accuracy: \" +  str(accuracy))\n",
    "print(metrics.classification_report(test_target, y_pred))\n",
    "report = metrics.classification_report(test_target, y_pred)\n",
    "model_testdata_f1_comparisons[\"SVM (linear kernel)\"] = report.split('\\n')[-2].split('      ')[3]\n",
    "# Print confusion matrix\n",
    "print(\"Confusion Matrix\")\n",
    "pd.crosstab(test_target, y_pred, rownames=['True'], colnames=['Predicted'], margins=True)"
   ]
  },
  {
   "cell_type": "markdown",
   "metadata": {},
   "source": [
    "We are getting <b>89.5% accuracy</b> with <b>SVM Classifier </b> when using Hold-out strategy"
   ]
  },
  {
   "cell_type": "markdown",
   "metadata": {},
   "source": [
    "We can also use <b>Cross-Validation</b> to measure the performance of the classifier. "
   ]
  },
  {
   "cell_type": "code",
   "execution_count": 44,
   "metadata": {},
   "outputs": [],
   "source": [
    "svc_model_cross_validation = SVC(kernel='linear')"
   ]
  },
  {
   "cell_type": "code",
   "execution_count": 45,
   "metadata": {},
   "outputs": [
    {
     "name": "stdout",
     "output_type": "stream",
     "text": [
      "[0.90243902 0.88501742 0.89160839 0.88070175 0.8877193 ]\n"
     ]
    }
   ],
   "source": [
    "scores = cross_val_score(svc_model_cross_validation, dataset_X,Y, cv=5, scoring=\"accuracy\")\n",
    "print(scores)"
   ]
  },
  {
   "cell_type": "code",
   "execution_count": 46,
   "metadata": {},
   "outputs": [
    {
     "data": {
      "text/plain": [
       "0.8894971780466003"
      ]
     },
     "execution_count": 46,
     "metadata": {},
     "output_type": "execute_result"
    }
   ],
   "source": [
    "model_cross_validation_accuracy_comparisons[\"SVM (linear kernel)\"] = scores.mean()\n",
    "scores.mean()"
   ]
  },
  {
   "cell_type": "markdown",
   "metadata": {},
   "source": [
    "We are getting <b>88.9% </b>accuracy with SVM Classifier when we are using Cross-Validation"
   ]
  },
  {
   "cell_type": "markdown",
   "metadata": {},
   "source": [
    "## Result Evaluation \n",
    "<a id=\"task_2_1\"> </a>"
   ]
  },
  {
   "cell_type": "markdown",
   "metadata": {},
   "source": [
    "I have build three classification model to distinguish between “positive” and “negative” reviews <br/>\n",
    "1) K-Nearest Neighbour (KNN) <br/>\n",
    "2) Naive Bayes <br/>\n",
    "3) Support Vector Machine (SVM) <br/>\n",
    "\n",
    "For evaluation purpose, I have used two two strategies </br>\n",
    "\n",
    "1) <b>Hold Out Approach </b>- In this we split the data into training and testing dataset. We have used 70-30 split, which means 70% will be used to train the model and 30% will be used to test the model. One of the disadvantage of this approach is that evaluation score is dependent on how the data is splitted into train and test dataset  <br/> \n",
    "\n",
    "2) <b>5-Fold Cross Validation </b>- In this we split the dataset into 5 folds. We perform five experiments in which one selected fold is used to test the dataset and remaining 4 fold is used to train the model. We repeat this process for all the five experiments. Cross-validation will give our models the opportunity to train on multiple train-test splits. This will give us a better indication of how well our model will perform on unseen data."
   ]
  },
  {
   "cell_type": "markdown",
   "metadata": {},
   "source": [
    "<b>Results of the classification models using Hold Out Approach</b>"
   ]
  },
  {
   "cell_type": "markdown",
   "metadata": {},
   "source": [
    "<b>Model Accuracy Comparison</b>"
   ]
  },
  {
   "cell_type": "code",
   "execution_count": 47,
   "metadata": {},
   "outputs": [
    {
     "data": {
      "text/html": [
       "<div>\n",
       "<style scoped>\n",
       "    .dataframe tbody tr th:only-of-type {\n",
       "        vertical-align: middle;\n",
       "    }\n",
       "\n",
       "    .dataframe tbody tr th {\n",
       "        vertical-align: top;\n",
       "    }\n",
       "\n",
       "    .dataframe thead th {\n",
       "        text-align: right;\n",
       "    }\n",
       "</style>\n",
       "<table border=\"1\" class=\"dataframe\">\n",
       "  <thead>\n",
       "    <tr style=\"text-align: right;\">\n",
       "      <th></th>\n",
       "      <th>Model Name</th>\n",
       "      <th>Accuracy on Test Data</th>\n",
       "    </tr>\n",
       "  </thead>\n",
       "  <tbody>\n",
       "    <tr>\n",
       "      <th>0</th>\n",
       "      <td>KNN(K=3)</td>\n",
       "      <td>0.825175</td>\n",
       "    </tr>\n",
       "    <tr>\n",
       "      <th>1</th>\n",
       "      <td>KNN(K=13)</td>\n",
       "      <td>0.846154</td>\n",
       "    </tr>\n",
       "    <tr>\n",
       "      <th>2</th>\n",
       "      <td>Naive Bayes</td>\n",
       "      <td>0.869464</td>\n",
       "    </tr>\n",
       "    <tr>\n",
       "      <th>3</th>\n",
       "      <td>SVM (linear kernel)</td>\n",
       "      <td>0.895105</td>\n",
       "    </tr>\n",
       "  </tbody>\n",
       "</table>\n",
       "</div>"
      ],
      "text/plain": [
       "            Model Name  Accuracy on Test Data\n",
       "0  KNN(K=3)             0.825175             \n",
       "1  KNN(K=13)            0.846154             \n",
       "2  Naive Bayes          0.869464             \n",
       "3  SVM (linear kernel)  0.895105             "
      ]
     },
     "execution_count": 47,
     "metadata": {},
     "output_type": "execute_result"
    }
   ],
   "source": [
    "pd.DataFrame(list(model_testdata_accuracy_comparisons.items()), columns=['Model Name', 'Accuracy on Test Data'])"
   ]
  },
  {
   "cell_type": "code",
   "execution_count": 48,
   "metadata": {},
   "outputs": [
    {
     "data": {
      "image/png": "[encoded data removed]",
      "text/plain": [
       "<Figure size 504x360 with 1 Axes>"
      ]
     },
     "metadata": {
      "needs_background": "light"
     },
     "output_type": "display_data"
    }
   ],
   "source": [
    "classifiers = model_testdata_accuracy_comparisons.keys()\n",
    "x_position = np.arange(len(classifiers))\n",
    "accuracy_values = model_testdata_accuracy_comparisons.values()\n",
    "plt.figure(figsize=(7,5))\n",
    "plt.bar(x_position, accuracy_values, align='center', width=0.6, color= ['#003f5c', '#7a5195', '#ef5675', '#ffa600'])\n",
    "plt.xticks(x_position, classifiers)\n",
    "plt.xlabel('Models', fontsize='13')\n",
    "plt.ylabel('Accuracy', fontsize='13')\n",
    "plt.ylim(0.8, 1)\n",
    "plt.title('Accuracy Vs Models',fontsize='13')\n",
    "plt.show()"
   ]
  },
  {
   "cell_type": "markdown",
   "metadata": {},
   "source": [
    "<b>F1 Score Comparison </b>"
   ]
  },
  {
   "cell_type": "code",
   "execution_count": 49,
   "metadata": {},
   "outputs": [
    {
     "data": {
      "text/html": [
       "<div>\n",
       "<style scoped>\n",
       "    .dataframe tbody tr th:only-of-type {\n",
       "        vertical-align: middle;\n",
       "    }\n",
       "\n",
       "    .dataframe tbody tr th {\n",
       "        vertical-align: top;\n",
       "    }\n",
       "\n",
       "    .dataframe thead th {\n",
       "        text-align: right;\n",
       "    }\n",
       "</style>\n",
       "<table border=\"1\" class=\"dataframe\">\n",
       "  <thead>\n",
       "    <tr style=\"text-align: right;\">\n",
       "      <th></th>\n",
       "      <th>Model Name</th>\n",
       "      <th>F1 Score on Test Data</th>\n",
       "    </tr>\n",
       "  </thead>\n",
       "  <tbody>\n",
       "    <tr>\n",
       "      <th>0</th>\n",
       "      <td>KNN(K=3)</td>\n",
       "      <td>0.82</td>\n",
       "    </tr>\n",
       "    <tr>\n",
       "      <th>1</th>\n",
       "      <td>KNN(K=13)</td>\n",
       "      <td>0.85</td>\n",
       "    </tr>\n",
       "    <tr>\n",
       "      <th>2</th>\n",
       "      <td>Naive Bayes</td>\n",
       "      <td>0.87</td>\n",
       "    </tr>\n",
       "    <tr>\n",
       "      <th>3</th>\n",
       "      <td>SVM (linear kernel)</td>\n",
       "      <td>0.89</td>\n",
       "    </tr>\n",
       "  </tbody>\n",
       "</table>\n",
       "</div>"
      ],
      "text/plain": [
       "            Model Name F1 Score on Test Data\n",
       "0  KNN(K=3)             0.82                \n",
       "1  KNN(K=13)            0.85                \n",
       "2  Naive Bayes          0.87                \n",
       "3  SVM (linear kernel)  0.89                "
      ]
     },
     "execution_count": 49,
     "metadata": {},
     "output_type": "execute_result"
    }
   ],
   "source": [
    "pd.DataFrame(list(model_testdata_f1_comparisons.items()), columns=['Model Name', 'F1 Score on Test Data'])"
   ]
  },
  {
   "cell_type": "code",
   "execution_count": 50,
   "metadata": {},
   "outputs": [
    {
     "data": {
      "image/png": "[encoded data removed]",
      "text/plain": [
       "<Figure size 504x360 with 1 Axes>"
      ]
     },
     "metadata": {
      "needs_background": "light"
     },
     "output_type": "display_data"
    }
   ],
   "source": [
    "classifiers = model_testdata_f1_comparisons.keys()\n",
    "x_position = np.arange(len(classifiers))\n",
    "plt.figure(figsize=(7,5))\n",
    "plt.bar(x_position, [float(x) for x in model_testdata_f1_comparisons.values()], align='center', width=0.6, color= ['#003f5c', '#7a5195', '#ef5675', '#ffa600'])\n",
    "plt.xticks(x_position, classifiers)\n",
    "plt.xlabel('Models', fontsize='13')\n",
    "plt.ylabel('F1-Score', fontsize='13')\n",
    "plt.ylim(0.8, 1)\n",
    "plt.title('F1-Score Vs Models',fontsize='13')\n",
    "plt.show()"
   ]
  },
  {
   "cell_type": "markdown",
   "metadata": {},
   "source": [
    "<b>Results of the classification models using 5-Fold Cross Validation</b>"
   ]
  },
  {
   "cell_type": "code",
   "execution_count": 51,
   "metadata": {},
   "outputs": [
    {
     "data": {
      "text/html": [
       "<div>\n",
       "<style scoped>\n",
       "    .dataframe tbody tr th:only-of-type {\n",
       "        vertical-align: middle;\n",
       "    }\n",
       "\n",
       "    .dataframe tbody tr th {\n",
       "        vertical-align: top;\n",
       "    }\n",
       "\n",
       "    .dataframe thead th {\n",
       "        text-align: right;\n",
       "    }\n",
       "</style>\n",
       "<table border=\"1\" class=\"dataframe\">\n",
       "  <thead>\n",
       "    <tr style=\"text-align: right;\">\n",
       "      <th></th>\n",
       "      <th>Model Name</th>\n",
       "      <th>Mean Accuracy using Cross Va;idation</th>\n",
       "    </tr>\n",
       "  </thead>\n",
       "  <tbody>\n",
       "    <tr>\n",
       "      <th>0</th>\n",
       "      <td>KNN(K=14)</td>\n",
       "      <td>0.823767</td>\n",
       "    </tr>\n",
       "    <tr>\n",
       "      <th>1</th>\n",
       "      <td>Naive Bayes</td>\n",
       "      <td>0.874149</td>\n",
       "    </tr>\n",
       "    <tr>\n",
       "      <th>2</th>\n",
       "      <td>SVM (linear kernel)</td>\n",
       "      <td>0.889497</td>\n",
       "    </tr>\n",
       "  </tbody>\n",
       "</table>\n",
       "</div>"
      ],
      "text/plain": [
       "            Model Name  Mean Accuracy using Cross Va;idation\n",
       "0  KNN(K=14)            0.823767                            \n",
       "1  Naive Bayes          0.874149                            \n",
       "2  SVM (linear kernel)  0.889497                            "
      ]
     },
     "execution_count": 51,
     "metadata": {},
     "output_type": "execute_result"
    }
   ],
   "source": [
    "pd.DataFrame(list(model_cross_validation_accuracy_comparisons.items()), columns=['Model Name', 'Mean Accuracy using Cross Va;idation'])"
   ]
  },
  {
   "cell_type": "code",
   "execution_count": 52,
   "metadata": {},
   "outputs": [
    {
     "data": {
      "image/png": "[encoded data removed]",
      "text/plain": [
       "<Figure size 504x360 with 1 Axes>"
      ]
     },
     "metadata": {
      "needs_background": "light"
     },
     "output_type": "display_data"
    }
   ],
   "source": [
    "classifiers = model_cross_validation_accuracy_comparisons.keys()\n",
    "x_position = np.arange(len(classifiers))\n",
    "accuracy_values = model_cross_validation_accuracy_comparisons.values()\n",
    "plt.figure(figsize=(7,5))\n",
    "plt.bar(x_position, accuracy_values, align='center', width=0.6, color= ['#003f5c', '#7a5195', '#ef5675', '#ffa600'])\n",
    "plt.xticks(x_position, classifiers)\n",
    "plt.xlabel('Models', fontsize='13')\n",
    "plt.ylabel('Mean Accuracy', fontsize='13')\n",
    "plt.ylim(0.8, 1)\n",
    "plt.title('Mean Accuracy Vs Models',fontsize='13')\n",
    "plt.show()"
   ]
  },
  {
   "cell_type": "markdown",
   "metadata": {},
   "source": [
    "<b>Observation</b>\n",
    "1. Using Simple Hold Out Approach, if we use KNN with K=3 and cosine similarity metric, then we are getting 82.5% accuracy. After fine tuning the performance of KNN, we were able to get 84.6% Accuracy. We are only tuning the value of K, but we can tune other parameters also. <br/>\n",
    "2. Naive Bayes incorrectly assumes that all terms are independent, but we can see that it is still very effective. We are getting better accuracy (86.9%) than KNN. <br/>\n",
    "3. SVM is giving us the best accuracy of 89.5% on Hotels and Travels Dataset.  <br/>\n",
    "4. If we look at F1 scores, we can see similar results. SVM giving us the best result with value 0.89. Followed by Naive Bayes (0.87) and then KKN(0.85)  <br/>\n",
    "5. Also, using Cross Validation, we are seeing similar results. SVM with linear kernel is giving us highest mean accuracy of 88.9%, followed by Naive Bayes (87.4%) and then KNN. <br/>\n",
    "6. One of the reason why we are getting high accuracy with SVM is that generally text analysis involves high dimensionality data. And there is some sort of relationship between them. Naive Bayes assumes that all the features are independent but SVM considers the dependency between the features also. That's why it takes more time to train as compared to Naive Bayes. "
   ]
  },
  {
   "cell_type": "markdown",
   "metadata": {},
   "source": [
    "## Category 2 - Bars"
   ]
  },
  {
   "cell_type": "markdown",
   "metadata": {},
   "source": [
    "For this task, we just need two columns 'Review Text' and 'class_label' of bars dataset."
   ]
  },
  {
   "cell_type": "code",
   "execution_count": 53,
   "metadata": {},
   "outputs": [],
   "source": [
    "X_bars=bars_dataset['Review Text']\n",
    "Y_bars=bars_dataset['class_label']"
   ]
  },
  {
   "cell_type": "markdown",
   "metadata": {},
   "source": [
    "First we need to split the data in training and test dataset. Training dataset is used to train the model and create the document-term matrix. We are also using it to perform parameter tuning of the model. Once we have our model ready, we are predicting the values on the test dataset to find the accuracy and to create a confusion matrix. We are splitting the data into 70% training set and 30% test set"
   ]
  },
  {
   "cell_type": "code",
   "execution_count": 54,
   "metadata": {},
   "outputs": [],
   "source": [
    "train_documents, test_documents, train_target, test_target = train_test_split(X_bars, Y_bars, random_state=0,\\\n",
    "                                                                              train_size = 0.7,test_size=0.3)"
   ]
  },
  {
   "cell_type": "markdown",
   "metadata": {},
   "source": [
    "Using TfidfVectorizer function of sklearn we will create a document-term matrix on train_document. Inside this function we have specified the pre-processing steps it should consider. We have set min_df=3 and have passed a custom tokenizer to handle lemmatisation and stop words removal. It converts text to lowercase and excludes terms of length <2. We have used the same approach that we have followed in above part."
   ]
  },
  {
   "cell_type": "code",
   "execution_count": 55,
   "metadata": {},
   "outputs": [
    {
     "name": "stdout",
     "output_type": "stream",
     "text": [
      "(1021, 4331)\n"
     ]
    }
   ],
   "source": [
    "vectorizer = TfidfVectorizer(min_df = 3,tokenizer=lemma_tokenizer,ngram_range=(1, 2))\n",
    "train_data_bars = vectorizer.fit_transform(train_documents)\n",
    "print(train_data_bars.shape)"
   ]
  },
  {
   "cell_type": "markdown",
   "metadata": {},
   "source": [
    "Now we have our document-term matrix ready. We have created a numeric representation of the data that is suitable for classification. It will be used to train our model. And also our test documents will use the same vocabulary which is created above"
   ]
  },
  {
   "cell_type": "code",
   "execution_count": 56,
   "metadata": {},
   "outputs": [
    {
     "name": "stdout",
     "output_type": "stream",
     "text": [
      "(438, 4331)\n"
     ]
    }
   ],
   "source": [
    "test_data_bars = vectorizer.transform(test_documents)\n",
    "print(test_data_bars.shape)"
   ]
  },
  {
   "cell_type": "markdown",
   "metadata": {},
   "source": [
    "We have created document-term matrix from test documents by calling transform() method to use the same vocabulary as the of training dataset. We will use text_X in the below models for testing purpose. It will be used when we are testing for Simple Hold Out Approach."
   ]
  },
  {
   "cell_type": "markdown",
   "metadata": {},
   "source": [
    "For <b>cross-validation</b> we need document term matrix on entire dataset. In that approach we are not dividing our dataset in training and testing. Following steps are performed for K-Fold Cross Validation :- \n",
    "\n",
    "1. We first divide our data into k disjoint subsets known as “folds”<br/>\n",
    "2. Then for each of k experiments, we use k-1 folds for training and the\n",
    "selected one fold for testing <br/>\n",
    "3. We repeat this process for all k folds and at the end we find the average accuracy rates."
   ]
  },
  {
   "cell_type": "code",
   "execution_count": 57,
   "metadata": {},
   "outputs": [
    {
     "name": "stdout",
     "output_type": "stream",
     "text": [
      "(1460, 6121)\n"
     ]
    }
   ],
   "source": [
    "vectorizer_dataset_Health_Medical = TfidfVectorizer(min_df = 3,tokenizer=lemma_tokenizer)\n",
    "bars_dataset_X = vectorizer.fit_transform(X_bars)\n",
    "print(bars_dataset_X.shape)"
   ]
  },
  {
   "cell_type": "markdown",
   "metadata": {},
   "source": [
    "### Build a classification model using a classifier of your choice, to distinguish between “positive” and “negative” reviews."
   ]
  },
  {
   "cell_type": "code",
   "execution_count": 58,
   "metadata": {},
   "outputs": [],
   "source": [
    "category2_model_testdata_accuracy_comparisons = dict()\n",
    "category2_model_testdata_f1_comparisons = dict()\n",
    "category2_model_cross_validation_accuracy_comparisons = dict()"
   ]
  },
  {
   "cell_type": "markdown",
   "metadata": {},
   "source": [
    "I have used k-nearest neighbors to perform the classification. In this we look at the k nearest neighbour to find out the label for new instance. First I have created the mdoel where value of K=3 and using simple hold out approach to perform the evaluation"
   ]
  },
  {
   "cell_type": "code",
   "execution_count": 59,
   "metadata": {},
   "outputs": [
    {
     "name": "stdout",
     "output_type": "stream",
     "text": [
      "KNeighborsClassifier(algorithm='auto', leaf_size=30, metric='cosine',\n",
      "           metric_params=None, n_jobs=None, n_neighbors=3, p=2,\n",
      "           weights='uniform')\n"
     ]
    }
   ],
   "source": [
    "model = KNeighborsClassifier(n_neighbors=3,metric='cosine')\n",
    "# build a model on the document-term matrix created from the training dataset\n",
    "model.fit(train_data_bars,train_target)\n",
    "print(model)"
   ]
  },
  {
   "cell_type": "markdown",
   "metadata": {},
   "source": [
    "Now, we are making predictions on the test dataset and comparing it's value with the actual result to find the accuracy score. We are also creating a confusion matrix, which summarises different aspects of classifier performance"
   ]
  },
  {
   "cell_type": "code",
   "execution_count": 60,
   "metadata": {},
   "outputs": [
    {
     "name": "stdout",
     "output_type": "stream",
     "text": [
      "Classification accuracy = 0.75\n",
      "              precision    recall  f1-score   support\n",
      "\n",
      "    Negative       0.62      0.66      0.64       146\n",
      "     Postive       0.82      0.80      0.81       292\n",
      "\n",
      "   micro avg       0.75      0.75      0.75       438\n",
      "   macro avg       0.72      0.73      0.72       438\n",
      "weighted avg       0.76      0.75      0.75       438\n",
      "\n",
      "Confusion Matrix\n"
     ]
    },
    {
     "data": {
      "text/html": [
       "<div>\n",
       "<style scoped>\n",
       "    .dataframe tbody tr th:only-of-type {\n",
       "        vertical-align: middle;\n",
       "    }\n",
       "\n",
       "    .dataframe tbody tr th {\n",
       "        vertical-align: top;\n",
       "    }\n",
       "\n",
       "    .dataframe thead th {\n",
       "        text-align: right;\n",
       "    }\n",
       "</style>\n",
       "<table border=\"1\" class=\"dataframe\">\n",
       "  <thead>\n",
       "    <tr style=\"text-align: right;\">\n",
       "      <th>Predicted</th>\n",
       "      <th>Negative</th>\n",
       "      <th>Postive</th>\n",
       "      <th>All</th>\n",
       "    </tr>\n",
       "    <tr>\n",
       "      <th>True</th>\n",
       "      <th></th>\n",
       "      <th></th>\n",
       "      <th></th>\n",
       "    </tr>\n",
       "  </thead>\n",
       "  <tbody>\n",
       "    <tr>\n",
       "      <th>Negative</th>\n",
       "      <td>96</td>\n",
       "      <td>50</td>\n",
       "      <td>146</td>\n",
       "    </tr>\n",
       "    <tr>\n",
       "      <th>Postive</th>\n",
       "      <td>59</td>\n",
       "      <td>233</td>\n",
       "      <td>292</td>\n",
       "    </tr>\n",
       "    <tr>\n",
       "      <th>All</th>\n",
       "      <td>155</td>\n",
       "      <td>283</td>\n",
       "      <td>438</td>\n",
       "    </tr>\n",
       "  </tbody>\n",
       "</table>\n",
       "</div>"
      ],
      "text/plain": [
       "Predicted  Negative  Postive  All\n",
       "True                             \n",
       "Negative   96        50       146\n",
       "Postive    59        233      292\n",
       "All        155       283      438"
      ]
     },
     "execution_count": 60,
     "metadata": {},
     "output_type": "execute_result"
    }
   ],
   "source": [
    "# Make a set of predictions for the test data\n",
    "y_pred = model.predict(test_data_bars)\n",
    "\n",
    "# Print performance details\n",
    "accuracy = metrics.accuracy_score(test_target, y_pred) # , normalize=True, sample_weight=None\n",
    "category2_model_testdata_accuracy_comparisons[\"KNN(K=3)\"] = accuracy\n",
    "print(\"Classification accuracy = %.2f\" % accuracy)\n",
    "print(metrics.classification_report(test_target, y_pred))\n",
    "\n",
    "report = metrics.classification_report(test_target, y_pred)\n",
    "category2_model_testdata_f1_comparisons[\"KNN(K=3)\"] = report.split('\\n')[-2].split('      ')[3]\n",
    "# Print confusion matrix\n",
    "print(\"Confusion Matrix\")\n",
    "pd.crosstab(test_target, y_pred, rownames=['True'], colnames=['Predicted'], margins=True)"
   ]
  },
  {
   "cell_type": "markdown",
   "metadata": {},
   "source": [
    "We are getting 75% accuracy by performing simple hold out approach. In this model we have set value of k=3. But we can perform some parameter tuning to improve the performance"
   ]
  },
  {
   "cell_type": "markdown",
   "metadata": {},
   "source": [
    "<b>Hyper Parameters Tuning of KNN model using Grid Search </b>"
   ]
  },
  {
   "cell_type": "markdown",
   "metadata": {},
   "source": [
    "First we define the parameter values that should be tuned. In our case we want to find the best value of k in the range of 1 to 20. We create a parameter grid which maps the parameter names to the values that should be searched. It is a dictionary where key is the parameter name and value is the list of values that should be searched for that parameter. Then we instatiate the Grid by specifying the model, parameter grid, number of fold to perform cross validation and what scoring should be use to find the best parameter. We are using training dataset to perform the hyper parameter tuning of our model"
   ]
  },
  {
   "cell_type": "code",
   "execution_count": 61,
   "metadata": {},
   "outputs": [
    {
     "name": "stdout",
     "output_type": "stream",
     "text": [
      "{'n_neighbors': [1, 2, 3, 4, 5, 6, 7, 8, 9, 10, 11, 12, 13, 14, 15, 16, 17, 18, 19]}\n"
     ]
    }
   ],
   "source": [
    "k_range = list(range(1, 20))\n",
    "param_grid = dict(n_neighbors=k_range)\n",
    "print(param_grid)"
   ]
  },
  {
   "cell_type": "code",
   "execution_count": 62,
   "metadata": {},
   "outputs": [
    {
     "data": {
      "text/plain": [
       "GridSearchCV(cv=5, error_score='raise-deprecating',\n",
       "       estimator=KNeighborsClassifier(algorithm='auto', leaf_size=30, metric='cosine',\n",
       "           metric_params=None, n_jobs=None, n_neighbors=5, p=2,\n",
       "           weights='uniform'),\n",
       "       fit_params=None, iid='warn', n_jobs=None,\n",
       "       param_grid={'n_neighbors': [1, 2, 3, 4, 5, 6, 7, 8, 9, 10, 11, 12, 13, 14, 15, 16, 17, 18, 19]},\n",
       "       pre_dispatch='2*n_jobs', refit=True, return_train_score='warn',\n",
       "       scoring='accuracy', verbose=0)"
      ]
     },
     "execution_count": 62,
     "metadata": {},
     "output_type": "execute_result"
    }
   ],
   "source": [
    "# instantiate the grid\n",
    "grid = GridSearchCV(KNeighborsClassifier(metric='cosine'), param_grid, cv=5, scoring='accuracy')\n",
    "grid.fit(train_data_bars, train_target)"
   ]
  },
  {
   "cell_type": "code",
   "execution_count": 63,
   "metadata": {},
   "outputs": [
    {
     "name": "stdout",
     "output_type": "stream",
     "text": [
      "Best parameters set found on training set:\n"
     ]
    },
    {
     "data": {
      "text/plain": [
       "{'n_neighbors': 14}"
      ]
     },
     "metadata": {},
     "output_type": "display_data"
    },
    {
     "data": {
      "text/plain": [
       "0.8109696376101861"
      ]
     },
     "metadata": {},
     "output_type": "display_data"
    }
   ],
   "source": [
    "# Print details\n",
    "print(\"Best parameters set found on training set:\")\n",
    "display(grid.best_params_)\n",
    "display(grid.best_score_)"
   ]
  },
  {
   "cell_type": "markdown",
   "metadata": {},
   "source": [
    "We can see from the above results that when k=14, we get the best accuracy"
   ]
  },
  {
   "cell_type": "markdown",
   "metadata": {},
   "source": [
    "### Using the best parameters to make predictions on the test dataset"
   ]
  },
  {
   "cell_type": "code",
   "execution_count": 64,
   "metadata": {},
   "outputs": [
    {
     "data": {
      "text/plain": [
       "KNeighborsClassifier(algorithm='auto', leaf_size=30, metric='cosine',\n",
       "           metric_params=None, n_jobs=None, n_neighbors=14, p=2,\n",
       "           weights='uniform')"
      ]
     },
     "execution_count": 64,
     "metadata": {},
     "output_type": "execute_result"
    }
   ],
   "source": [
    "knn = KNeighborsClassifier(n_neighbors=14, metric='cosine')\n",
    "knn.fit(train_data_bars, train_target)"
   ]
  },
  {
   "cell_type": "markdown",
   "metadata": {},
   "source": [
    "Now, we are making predictions on the test dataset and comparing it's value with the actual result to find the accuracy score. We are also creating a confusion matrix, which summarises different aspects of classifier performance. "
   ]
  },
  {
   "cell_type": "code",
   "execution_count": 65,
   "metadata": {},
   "outputs": [
    {
     "name": "stdout",
     "output_type": "stream",
     "text": [
      "Classification accuracy = 0.81\n",
      "              precision    recall  f1-score   support\n",
      "\n",
      "    Negative       0.72      0.71      0.71       146\n",
      "     Postive       0.85      0.86      0.86       292\n",
      "\n",
      "   micro avg       0.81      0.81      0.81       438\n",
      "   macro avg       0.79      0.78      0.79       438\n",
      "weighted avg       0.81      0.81      0.81       438\n",
      "\n",
      "Confusion Matrix\n"
     ]
    },
    {
     "data": {
      "text/html": [
       "<div>\n",
       "<style scoped>\n",
       "    .dataframe tbody tr th:only-of-type {\n",
       "        vertical-align: middle;\n",
       "    }\n",
       "\n",
       "    .dataframe tbody tr th {\n",
       "        vertical-align: top;\n",
       "    }\n",
       "\n",
       "    .dataframe thead th {\n",
       "        text-align: right;\n",
       "    }\n",
       "</style>\n",
       "<table border=\"1\" class=\"dataframe\">\n",
       "  <thead>\n",
       "    <tr style=\"text-align: right;\">\n",
       "      <th>Predicted</th>\n",
       "      <th>Negative</th>\n",
       "      <th>Postive</th>\n",
       "      <th>All</th>\n",
       "    </tr>\n",
       "    <tr>\n",
       "      <th>True</th>\n",
       "      <th></th>\n",
       "      <th></th>\n",
       "      <th></th>\n",
       "    </tr>\n",
       "  </thead>\n",
       "  <tbody>\n",
       "    <tr>\n",
       "      <th>Negative</th>\n",
       "      <td>103</td>\n",
       "      <td>43</td>\n",
       "      <td>146</td>\n",
       "    </tr>\n",
       "    <tr>\n",
       "      <th>Postive</th>\n",
       "      <td>40</td>\n",
       "      <td>252</td>\n",
       "      <td>292</td>\n",
       "    </tr>\n",
       "    <tr>\n",
       "      <th>All</th>\n",
       "      <td>143</td>\n",
       "      <td>295</td>\n",
       "      <td>438</td>\n",
       "    </tr>\n",
       "  </tbody>\n",
       "</table>\n",
       "</div>"
      ],
      "text/plain": [
       "Predicted  Negative  Postive  All\n",
       "True                             \n",
       "Negative   103       43       146\n",
       "Postive    40        252      292\n",
       "All        143       295      438"
      ]
     },
     "execution_count": 65,
     "metadata": {},
     "output_type": "execute_result"
    }
   ],
   "source": [
    "# Make a set of predictions for the test data\n",
    "y_pred = knn.predict(test_data_bars)\n",
    "\n",
    "# Print performance details\n",
    "accuracy = metrics.accuracy_score(test_target, y_pred) # , normalize=True, sample_weight=None\n",
    "category2_model_testdata_accuracy_comparisons[\"KNN(K=14)\"] = accuracy\n",
    "print(\"Classification accuracy = %.2f\" % accuracy)\n",
    "print(metrics.classification_report(test_target, y_pred))\n",
    "\n",
    "report = metrics.classification_report(test_target, y_pred)\n",
    "category2_model_testdata_f1_comparisons[\"KNN(K=14)\"] = report.split('\\n')[-2].split('      ')[3]\n",
    "# Print confusion matrix\n",
    "print(\"Confusion Matrix\")\n",
    "pd.crosstab(test_target, y_pred, rownames=['True'], colnames=['Predicted'], margins=True)"
   ]
  },
  {
   "cell_type": "markdown",
   "metadata": {},
   "source": [
    "We are getting <b>81% accuracy </b>with <b>KNN classifier </b> when using Hold-out strategy"
   ]
  },
  {
   "cell_type": "markdown",
   "metadata": {},
   "source": [
    "We can also use <b>Cross-Validation</b> to measure the performance of the classifier. In this we are using the tuned KNN model to perform the evaluation."
   ]
  },
  {
   "cell_type": "code",
   "execution_count": 66,
   "metadata": {},
   "outputs": [],
   "source": [
    "tuned_knn = KNeighborsClassifier(n_neighbors=14, metric='cosine')"
   ]
  },
  {
   "cell_type": "code",
   "execution_count": 67,
   "metadata": {},
   "outputs": [
    {
     "name": "stdout",
     "output_type": "stream",
     "text": [
      "[0.82191781 0.78082192 0.73287671 0.80479452 0.78424658]\n"
     ]
    }
   ],
   "source": [
    "scores = cross_val_score(tuned_knn, bars_dataset_X,Y_bars, cv=5, scoring=\"accuracy\")\n",
    "print(scores)"
   ]
  },
  {
   "cell_type": "code",
   "execution_count": 68,
   "metadata": {},
   "outputs": [
    {
     "data": {
      "text/plain": [
       "0.7849315068493151"
      ]
     },
     "execution_count": 68,
     "metadata": {},
     "output_type": "execute_result"
    }
   ],
   "source": [
    "category2_model_cross_validation_accuracy_comparisons[\"KNN(K=10)\"] = scores.mean()\n",
    "scores.mean()"
   ]
  },
  {
   "cell_type": "markdown",
   "metadata": {},
   "source": [
    "We are getting <b>78.4% </b>accuracy with KNN Classifier when we are using Cross-Validation"
   ]
  },
  {
   "cell_type": "markdown",
   "metadata": {},
   "source": [
    "### Other classifiers that can be used to classify reviews as Positive and Negative"
   ]
  },
  {
   "cell_type": "markdown",
   "metadata": {},
   "source": [
    "### 2. Naive Bayes Classifier- \n",
    "In this the classification is based on term frequency counts. It incorrectly assumes all terms are independent, but can still be effective in practice. "
   ]
  },
  {
   "cell_type": "markdown",
   "metadata": {},
   "source": [
    "First we created a naive bayes model and train it with the help of training dataset. We are then using document-term matrix which we have created above to train the model. Then we are using test documents to make predictions. Again we are using document-term matrix for test documents which was created above."
   ]
  },
  {
   "cell_type": "code",
   "execution_count": 69,
   "metadata": {},
   "outputs": [
    {
     "data": {
      "text/plain": [
       "MultinomialNB(alpha=1.0, class_prior=None, fit_prior=True)"
      ]
     },
     "execution_count": 69,
     "metadata": {},
     "output_type": "execute_result"
    }
   ],
   "source": [
    "nb_model = MultinomialNB()\n",
    "nb_model.fit(train_data_bars, train_target)"
   ]
  },
  {
   "cell_type": "markdown",
   "metadata": {},
   "source": [
    "Making prediction and finding the accuracy score and confusion matrix"
   ]
  },
  {
   "cell_type": "code",
   "execution_count": 70,
   "metadata": {},
   "outputs": [
    {
     "name": "stdout",
     "output_type": "stream",
     "text": [
      "Classification accuracy = 0.84\n",
      "              precision    recall  f1-score   support\n",
      "\n",
      "    Negative       0.88      0.61      0.72       146\n",
      "     Postive       0.83      0.96      0.89       292\n",
      "\n",
      "   micro avg       0.84      0.84      0.84       438\n",
      "   macro avg       0.86      0.78      0.81       438\n",
      "weighted avg       0.85      0.84      0.83       438\n",
      "\n",
      "Confusion Matrix\n"
     ]
    },
    {
     "data": {
      "text/html": [
       "<div>\n",
       "<style scoped>\n",
       "    .dataframe tbody tr th:only-of-type {\n",
       "        vertical-align: middle;\n",
       "    }\n",
       "\n",
       "    .dataframe tbody tr th {\n",
       "        vertical-align: top;\n",
       "    }\n",
       "\n",
       "    .dataframe thead th {\n",
       "        text-align: right;\n",
       "    }\n",
       "</style>\n",
       "<table border=\"1\" class=\"dataframe\">\n",
       "  <thead>\n",
       "    <tr style=\"text-align: right;\">\n",
       "      <th>Predicted</th>\n",
       "      <th>Negative</th>\n",
       "      <th>Postive</th>\n",
       "      <th>All</th>\n",
       "    </tr>\n",
       "    <tr>\n",
       "      <th>True</th>\n",
       "      <th></th>\n",
       "      <th></th>\n",
       "      <th></th>\n",
       "    </tr>\n",
       "  </thead>\n",
       "  <tbody>\n",
       "    <tr>\n",
       "      <th>Negative</th>\n",
       "      <td>89</td>\n",
       "      <td>57</td>\n",
       "      <td>146</td>\n",
       "    </tr>\n",
       "    <tr>\n",
       "      <th>Postive</th>\n",
       "      <td>12</td>\n",
       "      <td>280</td>\n",
       "      <td>292</td>\n",
       "    </tr>\n",
       "    <tr>\n",
       "      <th>All</th>\n",
       "      <td>101</td>\n",
       "      <td>337</td>\n",
       "      <td>438</td>\n",
       "    </tr>\n",
       "  </tbody>\n",
       "</table>\n",
       "</div>"
      ],
      "text/plain": [
       "Predicted  Negative  Postive  All\n",
       "True                             \n",
       "Negative   89        57       146\n",
       "Postive    12        280      292\n",
       "All        101       337      438"
      ]
     },
     "execution_count": 70,
     "metadata": {},
     "output_type": "execute_result"
    }
   ],
   "source": [
    "y_pred = nb_model.predict(test_data_bars)\n",
    "# Print performance details\n",
    "accuracy = metrics.accuracy_score(test_target, y_pred) # , normalize=True, sample_weight=None\n",
    "category2_model_testdata_accuracy_comparisons[\"Naive Bayes\"] = accuracy\n",
    "print(\"Classification accuracy = %.2f\" % accuracy)\n",
    "print(metrics.classification_report(test_target, y_pred))\n",
    "\n",
    "report = metrics.classification_report(test_target, y_pred)\n",
    "category2_model_testdata_f1_comparisons[\"Naive Bayes\"] = report.split('\\n')[-2].split('      ')[3]\n",
    "# Print confusion matrix\n",
    "print(\"Confusion Matrix\")\n",
    "pd.crosstab(test_target, y_pred, rownames=['True'], colnames=['Predicted'], margins=True)"
   ]
  },
  {
   "cell_type": "markdown",
   "metadata": {},
   "source": [
    "We are getting <b>84% accuracy </b>with <b>Naive Bayes Classifier </b> when using Hold-out strategy"
   ]
  },
  {
   "cell_type": "markdown",
   "metadata": {},
   "source": [
    "We can also use <b>Cross-Validation</b> to measure the performance of the classifier."
   ]
  },
  {
   "cell_type": "code",
   "execution_count": 71,
   "metadata": {},
   "outputs": [],
   "source": [
    "nb_model_cross_validation = MultinomialNB()"
   ]
  },
  {
   "cell_type": "code",
   "execution_count": 72,
   "metadata": {},
   "outputs": [
    {
     "name": "stdout",
     "output_type": "stream",
     "text": [
      "[0.85616438 0.80136986 0.81164384 0.83561644 0.79794521]\n"
     ]
    }
   ],
   "source": [
    "scores = cross_val_score(nb_model_cross_validation, bars_dataset_X,Y_bars, cv=5, scoring=\"accuracy\")\n",
    "print(scores)"
   ]
  },
  {
   "cell_type": "code",
   "execution_count": 73,
   "metadata": {},
   "outputs": [
    {
     "data": {
      "text/plain": [
       "0.8205479452054796"
      ]
     },
     "execution_count": 73,
     "metadata": {},
     "output_type": "execute_result"
    }
   ],
   "source": [
    "category2_model_cross_validation_accuracy_comparisons[\"Naive Bayes\"] = scores.mean()\n",
    "scores.mean()"
   ]
  },
  {
   "cell_type": "markdown",
   "metadata": {},
   "source": [
    "We are getting <b>82.0% </b>accuracy with Naive Bayes Classifier when we are using Cross-Validation"
   ]
  },
  {
   "cell_type": "markdown",
   "metadata": {},
   "source": [
    "### 3. SVMs with a linear kernel to calculate document similarity"
   ]
  },
  {
   "cell_type": "markdown",
   "metadata": {},
   "source": [
    "First we create a svm model and train it with the help of training dataset. We are using document-term matrix which was created above to train the model. Then we are using test documents for predictions. Again we are using document-term matrix for test documents which was created above"
   ]
  },
  {
   "cell_type": "code",
   "execution_count": 74,
   "metadata": {},
   "outputs": [
    {
     "data": {
      "text/plain": [
       "SVC(C=1.0, cache_size=200, class_weight=None, coef0=0.0,\n",
       "  decision_function_shape='ovr', degree=3, gamma='auto_deprecated',\n",
       "  kernel='linear', max_iter=-1, probability=False, random_state=None,\n",
       "  shrinking=True, tol=0.001, verbose=False)"
      ]
     },
     "execution_count": 74,
     "metadata": {},
     "output_type": "execute_result"
    }
   ],
   "source": [
    "svc_model = SVC(kernel='linear')\n",
    "svc_model.fit(train_data_bars, train_target)"
   ]
  },
  {
   "cell_type": "markdown",
   "metadata": {},
   "source": [
    "Making prediction and finding the accuracy score and confusion matrix"
   ]
  },
  {
   "cell_type": "code",
   "execution_count": 75,
   "metadata": {},
   "outputs": [
    {
     "name": "stdout",
     "output_type": "stream",
     "text": [
      "Classification accuracy = 0.86\n",
      "              precision    recall  f1-score   support\n",
      "\n",
      "    Negative       0.80      0.76      0.78       146\n",
      "     Postive       0.88      0.90      0.89       292\n",
      "\n",
      "   micro avg       0.86      0.86      0.86       438\n",
      "   macro avg       0.84      0.83      0.84       438\n",
      "weighted avg       0.85      0.86      0.86       438\n",
      "\n",
      "Confusion Matrix\n"
     ]
    },
    {
     "data": {
      "text/html": [
       "<div>\n",
       "<style scoped>\n",
       "    .dataframe tbody tr th:only-of-type {\n",
       "        vertical-align: middle;\n",
       "    }\n",
       "\n",
       "    .dataframe tbody tr th {\n",
       "        vertical-align: top;\n",
       "    }\n",
       "\n",
       "    .dataframe thead th {\n",
       "        text-align: right;\n",
       "    }\n",
       "</style>\n",
       "<table border=\"1\" class=\"dataframe\">\n",
       "  <thead>\n",
       "    <tr style=\"text-align: right;\">\n",
       "      <th>Predicted</th>\n",
       "      <th>Negative</th>\n",
       "      <th>Postive</th>\n",
       "      <th>All</th>\n",
       "    </tr>\n",
       "    <tr>\n",
       "      <th>True</th>\n",
       "      <th></th>\n",
       "      <th></th>\n",
       "      <th></th>\n",
       "    </tr>\n",
       "  </thead>\n",
       "  <tbody>\n",
       "    <tr>\n",
       "      <th>Negative</th>\n",
       "      <td>111</td>\n",
       "      <td>35</td>\n",
       "      <td>146</td>\n",
       "    </tr>\n",
       "    <tr>\n",
       "      <th>Postive</th>\n",
       "      <td>28</td>\n",
       "      <td>264</td>\n",
       "      <td>292</td>\n",
       "    </tr>\n",
       "    <tr>\n",
       "      <th>All</th>\n",
       "      <td>139</td>\n",
       "      <td>299</td>\n",
       "      <td>438</td>\n",
       "    </tr>\n",
       "  </tbody>\n",
       "</table>\n",
       "</div>"
      ],
      "text/plain": [
       "Predicted  Negative  Postive  All\n",
       "True                             \n",
       "Negative   111       35       146\n",
       "Postive    28        264      292\n",
       "All        139       299      438"
      ]
     },
     "execution_count": 75,
     "metadata": {},
     "output_type": "execute_result"
    }
   ],
   "source": [
    "y_pred = svc_model.predict(test_data_bars)\n",
    "# Print performance details\n",
    "accuracy = metrics.accuracy_score(test_target, y_pred) # , normalize=True, sample_weight=None\n",
    "category2_model_testdata_accuracy_comparisons[\"SVM (linear kernel)\"] = accuracy\n",
    "print(\"Classification accuracy = %.2f\" % accuracy)\n",
    "print(metrics.classification_report(test_target, y_pred))\n",
    "\n",
    "report = metrics.classification_report(test_target, y_pred)\n",
    "category2_model_testdata_f1_comparisons[\"SVM (linear kernel)\"] = report.split('\\n')[-2].split('      ')[3]\n",
    "# Print confusion matrix\n",
    "print(\"Confusion Matrix\")\n",
    "pd.crosstab(test_target, y_pred, rownames=['True'], colnames=['Predicted'], margins=True)"
   ]
  },
  {
   "cell_type": "markdown",
   "metadata": {},
   "source": [
    "We are getting <b>86% accuracy</b> with <b>SVM Classifier </b> when using Hold-out strategy"
   ]
  },
  {
   "cell_type": "markdown",
   "metadata": {},
   "source": [
    "We can also use <b>Cross-Validation</b> to measure the performance of the classifier."
   ]
  },
  {
   "cell_type": "code",
   "execution_count": 76,
   "metadata": {},
   "outputs": [],
   "source": [
    "svc_model_cross_validation = SVC(kernel='linear')"
   ]
  },
  {
   "cell_type": "code",
   "execution_count": 77,
   "metadata": {},
   "outputs": [
    {
     "name": "stdout",
     "output_type": "stream",
     "text": [
      "[0.89383562 0.80821918 0.85616438 0.84246575 0.87328767]\n"
     ]
    }
   ],
   "source": [
    "scores = cross_val_score(svc_model_cross_validation, bars_dataset_X,Y_bars, cv=5, scoring=\"accuracy\")\n",
    "print(scores)"
   ]
  },
  {
   "cell_type": "code",
   "execution_count": 78,
   "metadata": {},
   "outputs": [
    {
     "data": {
      "text/plain": [
       "0.8547945205479452"
      ]
     },
     "execution_count": 78,
     "metadata": {},
     "output_type": "execute_result"
    }
   ],
   "source": [
    "category2_model_cross_validation_accuracy_comparisons[\"SVM (linear kernel)\"] = scores.mean()\n",
    "scores.mean()"
   ]
  },
  {
   "cell_type": "markdown",
   "metadata": {},
   "source": [
    "We are getting <b>85.4% </b>accuracy with SVM Classifier when we are using Cross-Validation"
   ]
  },
  {
   "cell_type": "markdown",
   "metadata": {},
   "source": [
    "## Result Evaluation \n",
    "<a id=\"task_2_2\"></a>"
   ]
  },
  {
   "cell_type": "markdown",
   "metadata": {},
   "source": [
    "I have build three classification model to distinguish between “positive” and “negative” reviews <br/>\n",
    "1) K-Nearest Neighbour (KNN) <br/>\n",
    "2) Naive Bayes <br/>\n",
    "3) Support Vector Machine (SVM) <br/>\n",
    "\n",
    "For evaluation purpose, I have used two two strategies </br>\n",
    "\n",
    "1) <b>Hold Out Approach </b>- In this we split the data into training and testing dataset. We have used 70-30 split, which means 70% will be used to train the model and 30% will be used to test the model. One of the disadvantage of this approach is that evaluation score is dependent on how the data is splitted into train and test dataset  <br/> \n",
    "\n",
    "2) <b>5-Fold Cross Validation </b>- In this we split the dataset into 5 folds. We perform five experiments in which one selected fold is used to test the dataset and remaining 4 fold is used to train the model. We repeat this process for all the five experiments. Cross-validation will give our models the opportunity to train on multiple train-test splits. This will give us a better indication of how well our model will perform on unseen data."
   ]
  },
  {
   "cell_type": "markdown",
   "metadata": {},
   "source": [
    "<b>Results of the classification models using Hold Out Approach</b>"
   ]
  },
  {
   "cell_type": "markdown",
   "metadata": {},
   "source": [
    "<b>Model Accuracy Comparison</b>"
   ]
  },
  {
   "cell_type": "code",
   "execution_count": 79,
   "metadata": {},
   "outputs": [
    {
     "data": {
      "text/html": [
       "<div>\n",
       "<style scoped>\n",
       "    .dataframe tbody tr th:only-of-type {\n",
       "        vertical-align: middle;\n",
       "    }\n",
       "\n",
       "    .dataframe tbody tr th {\n",
       "        vertical-align: top;\n",
       "    }\n",
       "\n",
       "    .dataframe thead th {\n",
       "        text-align: right;\n",
       "    }\n",
       "</style>\n",
       "<table border=\"1\" class=\"dataframe\">\n",
       "  <thead>\n",
       "    <tr style=\"text-align: right;\">\n",
       "      <th></th>\n",
       "      <th>Model Name</th>\n",
       "      <th>Accuracy on Test Data</th>\n",
       "    </tr>\n",
       "  </thead>\n",
       "  <tbody>\n",
       "    <tr>\n",
       "      <th>0</th>\n",
       "      <td>KNN(K=3)</td>\n",
       "      <td>0.751142</td>\n",
       "    </tr>\n",
       "    <tr>\n",
       "      <th>1</th>\n",
       "      <td>KNN(K=14)</td>\n",
       "      <td>0.810502</td>\n",
       "    </tr>\n",
       "    <tr>\n",
       "      <th>2</th>\n",
       "      <td>Naive Bayes</td>\n",
       "      <td>0.842466</td>\n",
       "    </tr>\n",
       "    <tr>\n",
       "      <th>3</th>\n",
       "      <td>SVM (linear kernel)</td>\n",
       "      <td>0.856164</td>\n",
       "    </tr>\n",
       "  </tbody>\n",
       "</table>\n",
       "</div>"
      ],
      "text/plain": [
       "            Model Name  Accuracy on Test Data\n",
       "0  KNN(K=3)             0.751142             \n",
       "1  KNN(K=14)            0.810502             \n",
       "2  Naive Bayes          0.842466             \n",
       "3  SVM (linear kernel)  0.856164             "
      ]
     },
     "execution_count": 79,
     "metadata": {},
     "output_type": "execute_result"
    }
   ],
   "source": [
    "pd.DataFrame(list(category2_model_testdata_accuracy_comparisons.items()), columns=['Model Name', 'Accuracy on Test Data'])"
   ]
  },
  {
   "cell_type": "code",
   "execution_count": 80,
   "metadata": {},
   "outputs": [
    {
     "data": {
      "image/png": "[encoded data removed]",
      "text/plain": [
       "<Figure size 504x360 with 1 Axes>"
      ]
     },
     "metadata": {
      "needs_background": "light"
     },
     "output_type": "display_data"
    }
   ],
   "source": [
    "classifiers = category2_model_testdata_accuracy_comparisons.keys()\n",
    "x_position = np.arange(len(classifiers))\n",
    "accuracy_values = category2_model_testdata_accuracy_comparisons.values()\n",
    "plt.figure(figsize=(7,5))\n",
    "plt.bar(x_position, accuracy_values, align='center', width=0.6, color= ['#003f5c', '#7a5195', '#ef5675', '#ffa600'])\n",
    "plt.xticks(x_position, classifiers)\n",
    "plt.xlabel('Models', fontsize='13')\n",
    "plt.ylabel('Accuracy', fontsize='13')\n",
    "plt.ylim(0.7, 1)\n",
    "plt.title('Accuracy Vs Models',fontsize='13')\n",
    "plt.show()"
   ]
  },
  {
   "cell_type": "markdown",
   "metadata": {},
   "source": [
    "<b>F1 Score Comparison </b>"
   ]
  },
  {
   "cell_type": "code",
   "execution_count": 81,
   "metadata": {},
   "outputs": [
    {
     "data": {
      "text/html": [
       "<div>\n",
       "<style scoped>\n",
       "    .dataframe tbody tr th:only-of-type {\n",
       "        vertical-align: middle;\n",
       "    }\n",
       "\n",
       "    .dataframe tbody tr th {\n",
       "        vertical-align: top;\n",
       "    }\n",
       "\n",
       "    .dataframe thead th {\n",
       "        text-align: right;\n",
       "    }\n",
       "</style>\n",
       "<table border=\"1\" class=\"dataframe\">\n",
       "  <thead>\n",
       "    <tr style=\"text-align: right;\">\n",
       "      <th></th>\n",
       "      <th>Model Name</th>\n",
       "      <th>F1 Score on Test Data</th>\n",
       "    </tr>\n",
       "  </thead>\n",
       "  <tbody>\n",
       "    <tr>\n",
       "      <th>0</th>\n",
       "      <td>KNN(K=3)</td>\n",
       "      <td>0.75</td>\n",
       "    </tr>\n",
       "    <tr>\n",
       "      <th>1</th>\n",
       "      <td>KNN(K=14)</td>\n",
       "      <td>0.81</td>\n",
       "    </tr>\n",
       "    <tr>\n",
       "      <th>2</th>\n",
       "      <td>Naive Bayes</td>\n",
       "      <td>0.83</td>\n",
       "    </tr>\n",
       "    <tr>\n",
       "      <th>3</th>\n",
       "      <td>SVM (linear kernel)</td>\n",
       "      <td>0.86</td>\n",
       "    </tr>\n",
       "  </tbody>\n",
       "</table>\n",
       "</div>"
      ],
      "text/plain": [
       "            Model Name F1 Score on Test Data\n",
       "0  KNN(K=3)             0.75                \n",
       "1  KNN(K=14)            0.81                \n",
       "2  Naive Bayes          0.83                \n",
       "3  SVM (linear kernel)  0.86                "
      ]
     },
     "execution_count": 81,
     "metadata": {},
     "output_type": "execute_result"
    }
   ],
   "source": [
    "pd.DataFrame(list(category2_model_testdata_f1_comparisons.items()), columns=['Model Name', 'F1 Score on Test Data'])"
   ]
  },
  {
   "cell_type": "code",
   "execution_count": 82,
   "metadata": {},
   "outputs": [
    {
     "data": {
      "image/png": "[encoded data removed]",
      "text/plain": [
       "<Figure size 504x360 with 1 Axes>"
      ]
     },
     "metadata": {
      "needs_background": "light"
     },
     "output_type": "display_data"
    }
   ],
   "source": [
    "classifiers = category2_model_testdata_f1_comparisons.keys()\n",
    "x_position = np.arange(len(classifiers))\n",
    "plt.figure(figsize=(7,5))\n",
    "plt.bar(x_position, [float(x) for x in category2_model_testdata_f1_comparisons.values()], align='center', width=0.6, color= ['#003f5c', '#7a5195', '#ef5675', '#ffa600'])\n",
    "plt.xticks(x_position, classifiers)\n",
    "plt.xlabel('Models', fontsize='13')\n",
    "plt.ylabel('F1-Score', fontsize='13')\n",
    "plt.ylim(0.7, 1)\n",
    "plt.title('F1-Score Vs Models',fontsize='13')\n",
    "plt.show()"
   ]
  },
  {
   "cell_type": "markdown",
   "metadata": {},
   "source": [
    "<b>Results of the classification models using 5-Fold Cross Validation</b>"
   ]
  },
  {
   "cell_type": "code",
   "execution_count": 83,
   "metadata": {},
   "outputs": [
    {
     "data": {
      "text/html": [
       "<div>\n",
       "<style scoped>\n",
       "    .dataframe tbody tr th:only-of-type {\n",
       "        vertical-align: middle;\n",
       "    }\n",
       "\n",
       "    .dataframe tbody tr th {\n",
       "        vertical-align: top;\n",
       "    }\n",
       "\n",
       "    .dataframe thead th {\n",
       "        text-align: right;\n",
       "    }\n",
       "</style>\n",
       "<table border=\"1\" class=\"dataframe\">\n",
       "  <thead>\n",
       "    <tr style=\"text-align: right;\">\n",
       "      <th></th>\n",
       "      <th>Model Name</th>\n",
       "      <th>Mean Accuracy using Cross Va;idation</th>\n",
       "    </tr>\n",
       "  </thead>\n",
       "  <tbody>\n",
       "    <tr>\n",
       "      <th>0</th>\n",
       "      <td>KNN(K=10)</td>\n",
       "      <td>0.784932</td>\n",
       "    </tr>\n",
       "    <tr>\n",
       "      <th>1</th>\n",
       "      <td>Naive Bayes</td>\n",
       "      <td>0.820548</td>\n",
       "    </tr>\n",
       "    <tr>\n",
       "      <th>2</th>\n",
       "      <td>SVM (linear kernel)</td>\n",
       "      <td>0.854795</td>\n",
       "    </tr>\n",
       "  </tbody>\n",
       "</table>\n",
       "</div>"
      ],
      "text/plain": [
       "            Model Name  Mean Accuracy using Cross Va;idation\n",
       "0  KNN(K=10)            0.784932                            \n",
       "1  Naive Bayes          0.820548                            \n",
       "2  SVM (linear kernel)  0.854795                            "
      ]
     },
     "execution_count": 83,
     "metadata": {},
     "output_type": "execute_result"
    }
   ],
   "source": [
    "pd.DataFrame(list(category2_model_cross_validation_accuracy_comparisons.items()), columns=['Model Name', 'Mean Accuracy using Cross Va;idation'])"
   ]
  },
  {
   "cell_type": "code",
   "execution_count": 84,
   "metadata": {},
   "outputs": [
    {
     "data": {
      "image/png": "[encoded data removed]",
      "text/plain": [
       "<Figure size 504x360 with 1 Axes>"
      ]
     },
     "metadata": {
      "needs_background": "light"
     },
     "output_type": "display_data"
    }
   ],
   "source": [
    "classifiers = category2_model_cross_validation_accuracy_comparisons.keys()\n",
    "x_position = np.arange(len(classifiers))\n",
    "accuracy_values = category2_model_cross_validation_accuracy_comparisons.values()\n",
    "plt.figure(figsize=(7,5))\n",
    "plt.bar(x_position, accuracy_values, align='center', width=0.6, color= ['#7a5195', '#ef5675', '#ffa600'])\n",
    "plt.xticks(x_position, classifiers)\n",
    "plt.xlabel('Models', fontsize='13')\n",
    "plt.ylabel('Mean Accuracy', fontsize='13')\n",
    "plt.ylim(0.7, 1)\n",
    "plt.title('Mean Accuracy Vs Models',fontsize='13')\n",
    "plt.show()"
   ]
  },
  {
   "cell_type": "markdown",
   "metadata": {},
   "source": [
    "<b>Observation</b>\n",
    "1. Using Simple Hold Out Approach, if we use KNN with K=3 and cosine similarity metric, then we are getting 75.1% accuracy. After fine tuning the performance of KNN, we were able to get 81.0% Accuracy. We are only tuning the value of K, but we can tune other parameters also. <br/>\n",
    "2. Naive Bayes incorrectly assumes that all terms are independent, but we can see that it is still very effective. We are getting better accuracy (84.2%) than KNN. <br/>\n",
    "3. SVM is giving us the best accuracy of 85.6% on Bars Dataset.  <br/>\n",
    "4. If we look at F1 scores, we can see similar results. SVM giving us the best result with value 0.86. Followed by Naive Bayes (0.83) and then KKN(0.81)  <br/>\n",
    "5. Also, using Cross Validation, we are seeing similar results. SVM with linear kernel is giving us highest mean accuracy of 85.4%, followed by Naive Bayes (82.0%) and then KNN (85.4%). <br/> "
   ]
  },
  {
   "cell_type": "markdown",
   "metadata": {},
   "source": [
    "## Task 3\n",
    "\n",
    "Evaluate how well your two classification models transfer between category.\n",
    "That is, run experiments to: <br/>\n",
    "a. Train a classification model on the data from “Category A”, and evaluate its\n",
    "performance on the data from “Category B”.<br/>\n",
    "b. Train a classification model on the data from “Category B”, and evaluate its\n",
    "performance on the data from “Category A”. "
   ]
  },
  {
   "cell_type": "markdown",
   "metadata": {},
   "source": [
    "## Part 1\n",
    "Train a classification model on the data from “Category A”, and evaluate its performance on the data from “Category B”.<br/>\n",
    "In our case Category 1 is bars and Category 2 is Hotels and Travel"
   ]
  },
  {
   "cell_type": "code",
   "execution_count": 85,
   "metadata": {},
   "outputs": [],
   "source": [
    "#Category A\n",
    "train_documents=bars_dataset['Review Text']\n",
    "train_target=bars_dataset['class_label']"
   ]
  },
  {
   "cell_type": "markdown",
   "metadata": {},
   "source": [
    "We are splitting the data in training and testing. Testing data would be used to evalaute the model trained on same category. "
   ]
  },
  {
   "cell_type": "code",
   "execution_count": 86,
   "metadata": {},
   "outputs": [],
   "source": [
    "train_documents_category_A, test_documents_category_A, train_target_category_A, test_target_category_A \\\n",
    "= train_test_split(train_documents, train_target, random_state=0,train_size = 0.7,test_size=0.3)"
   ]
  },
  {
   "cell_type": "markdown",
   "metadata": {},
   "source": [
    "We would be using this data to evalaute the model trained on different category"
   ]
  },
  {
   "cell_type": "code",
   "execution_count": 87,
   "metadata": {},
   "outputs": [],
   "source": [
    "#Category B (Test Dataset for Category B)\n",
    "test_documents_category_B=hotels_travel_dataset['Review Text']\n",
    "test_target_category_B=hotels_travel_dataset['class_label']"
   ]
  },
  {
   "cell_type": "code",
   "execution_count": 88,
   "metadata": {},
   "outputs": [
    {
     "name": "stdout",
     "output_type": "stream",
     "text": [
      "(1021, 4331)\n"
     ]
    }
   ],
   "source": [
    "#vectorizer = CountVectorizer(stop_words=\"english\",min_df = 3,tokenizer=lemma_tokenizer)\n",
    "vectorizer = TfidfVectorizer(min_df = 3,tokenizer=lemma_tokenizer,ngram_range=(1, 2))\n",
    "train_X = vectorizer.fit_transform(train_documents_category_A)\n",
    "print(train_X.shape)"
   ]
  },
  {
   "cell_type": "markdown",
   "metadata": {},
   "source": [
    "Vector for test documents of same category"
   ]
  },
  {
   "cell_type": "code",
   "execution_count": 89,
   "metadata": {},
   "outputs": [
    {
     "name": "stdout",
     "output_type": "stream",
     "text": [
      "(438, 4331)\n"
     ]
    }
   ],
   "source": [
    "test_X_category_A = vectorizer.transform(test_documents_category_A)\n",
    "print(test_X_category_A.shape)"
   ]
  },
  {
   "cell_type": "markdown",
   "metadata": {},
   "source": [
    "Vector for test documents from different category"
   ]
  },
  {
   "cell_type": "code",
   "execution_count": 90,
   "metadata": {},
   "outputs": [
    {
     "name": "stdout",
     "output_type": "stream",
     "text": [
      "(1430, 4331)\n"
     ]
    }
   ],
   "source": [
    "test_X_category_B = vectorizer.transform(test_documents_category_B)\n",
    "print(test_X_category_B.shape)"
   ]
  },
  {
   "cell_type": "markdown",
   "metadata": {},
   "source": [
    "In the previous part, we saw that <b>SVM model</b> was giving us the best accuracy. So we will use that model to evaluate the performance."
   ]
  },
  {
   "cell_type": "code",
   "execution_count": 91,
   "metadata": {},
   "outputs": [
    {
     "data": {
      "text/plain": [
       "SVC(C=1.0, cache_size=200, class_weight=None, coef0=0.0,\n",
       "  decision_function_shape='ovr', degree=3, gamma='auto_deprecated',\n",
       "  kernel='linear', max_iter=-1, probability=False, random_state=None,\n",
       "  shrinking=True, tol=0.001, verbose=False)"
      ]
     },
     "execution_count": 91,
     "metadata": {},
     "output_type": "execute_result"
    }
   ],
   "source": [
    "svc_model = SVC(kernel='linear')\n",
    "svc_model.fit(train_X, train_target_category_A)"
   ]
  },
  {
   "cell_type": "markdown",
   "metadata": {},
   "source": [
    "Now, we are making predictions on the same category test dataset and comparing it's value with the actual result to find the accuracy score. We are also creating a confusion matrix, which summarises different aspects of classifier performance"
   ]
  },
  {
   "cell_type": "code",
   "execution_count": 92,
   "metadata": {},
   "outputs": [
    {
     "name": "stdout",
     "output_type": "stream",
     "text": [
      "Classification accuracy = 0.86\n",
      "              precision    recall  f1-score   support\n",
      "\n",
      "    Negative       0.80      0.76      0.78       146\n",
      "     Postive       0.88      0.90      0.89       292\n",
      "\n",
      "   micro avg       0.86      0.86      0.86       438\n",
      "   macro avg       0.84      0.83      0.84       438\n",
      "weighted avg       0.85      0.86      0.86       438\n",
      "\n",
      "Confusion Matrix\n"
     ]
    },
    {
     "data": {
      "text/html": [
       "<div>\n",
       "<style scoped>\n",
       "    .dataframe tbody tr th:only-of-type {\n",
       "        vertical-align: middle;\n",
       "    }\n",
       "\n",
       "    .dataframe tbody tr th {\n",
       "        vertical-align: top;\n",
       "    }\n",
       "\n",
       "    .dataframe thead th {\n",
       "        text-align: right;\n",
       "    }\n",
       "</style>\n",
       "<table border=\"1\" class=\"dataframe\">\n",
       "  <thead>\n",
       "    <tr style=\"text-align: right;\">\n",
       "      <th>Predicted</th>\n",
       "      <th>Negative</th>\n",
       "      <th>Postive</th>\n",
       "      <th>All</th>\n",
       "    </tr>\n",
       "    <tr>\n",
       "      <th>True</th>\n",
       "      <th></th>\n",
       "      <th></th>\n",
       "      <th></th>\n",
       "    </tr>\n",
       "  </thead>\n",
       "  <tbody>\n",
       "    <tr>\n",
       "      <th>Negative</th>\n",
       "      <td>111</td>\n",
       "      <td>35</td>\n",
       "      <td>146</td>\n",
       "    </tr>\n",
       "    <tr>\n",
       "      <th>Postive</th>\n",
       "      <td>28</td>\n",
       "      <td>264</td>\n",
       "      <td>292</td>\n",
       "    </tr>\n",
       "    <tr>\n",
       "      <th>All</th>\n",
       "      <td>139</td>\n",
       "      <td>299</td>\n",
       "      <td>438</td>\n",
       "    </tr>\n",
       "  </tbody>\n",
       "</table>\n",
       "</div>"
      ],
      "text/plain": [
       "Predicted  Negative  Postive  All\n",
       "True                             \n",
       "Negative   111       35       146\n",
       "Postive    28        264      292\n",
       "All        139       299      438"
      ]
     },
     "execution_count": 92,
     "metadata": {},
     "output_type": "execute_result"
    }
   ],
   "source": [
    "y_pred = svc_model.predict(test_X_category_A)\n",
    "# Print performance details\n",
    "accuracy = metrics.accuracy_score(test_target_category_A, y_pred) # , normalize=True, sample_weight=None\n",
    "print(\"Classification accuracy = %.2f\" % accuracy)\n",
    "print(metrics.classification_report(test_target_category_A, y_pred))\n",
    "# Print confusion matrix\n",
    "print(\"Confusion Matrix\")\n",
    "pd.crosstab(test_target_category_A, y_pred, rownames=['True'], colnames=['Predicted'], margins=True)"
   ]
  },
  {
   "cell_type": "markdown",
   "metadata": {},
   "source": [
    "Now, we are making predictions on the different category test dataset and comparing it's value with the actual result to find the accuracy score. We are also creating a confusion matrix, which summarises different aspects of classifier performance"
   ]
  },
  {
   "cell_type": "code",
   "execution_count": 93,
   "metadata": {},
   "outputs": [
    {
     "name": "stdout",
     "output_type": "stream",
     "text": [
      "Classification accuracy = 0.82\n",
      "              precision    recall  f1-score   support\n",
      "\n",
      "    Negative       0.85      0.74      0.79       637\n",
      "     Postive       0.81      0.90      0.85       793\n",
      "\n",
      "   micro avg       0.82      0.82      0.82      1430\n",
      "   macro avg       0.83      0.82      0.82      1430\n",
      "weighted avg       0.83      0.82      0.82      1430\n",
      "\n",
      "Confusion Matrix\n"
     ]
    },
    {
     "data": {
      "text/html": [
       "<div>\n",
       "<style scoped>\n",
       "    .dataframe tbody tr th:only-of-type {\n",
       "        vertical-align: middle;\n",
       "    }\n",
       "\n",
       "    .dataframe tbody tr th {\n",
       "        vertical-align: top;\n",
       "    }\n",
       "\n",
       "    .dataframe thead th {\n",
       "        text-align: right;\n",
       "    }\n",
       "</style>\n",
       "<table border=\"1\" class=\"dataframe\">\n",
       "  <thead>\n",
       "    <tr style=\"text-align: right;\">\n",
       "      <th>Predicted</th>\n",
       "      <th>Negative</th>\n",
       "      <th>Postive</th>\n",
       "      <th>All</th>\n",
       "    </tr>\n",
       "    <tr>\n",
       "      <th>True</th>\n",
       "      <th></th>\n",
       "      <th></th>\n",
       "      <th></th>\n",
       "    </tr>\n",
       "  </thead>\n",
       "  <tbody>\n",
       "    <tr>\n",
       "      <th>Negative</th>\n",
       "      <td>469</td>\n",
       "      <td>168</td>\n",
       "      <td>637</td>\n",
       "    </tr>\n",
       "    <tr>\n",
       "      <th>Postive</th>\n",
       "      <td>83</td>\n",
       "      <td>710</td>\n",
       "      <td>793</td>\n",
       "    </tr>\n",
       "    <tr>\n",
       "      <th>All</th>\n",
       "      <td>552</td>\n",
       "      <td>878</td>\n",
       "      <td>1430</td>\n",
       "    </tr>\n",
       "  </tbody>\n",
       "</table>\n",
       "</div>"
      ],
      "text/plain": [
       "Predicted  Negative  Postive   All\n",
       "True                              \n",
       "Negative   469       168      637 \n",
       "Postive    83        710      793 \n",
       "All        552       878      1430"
      ]
     },
     "execution_count": 93,
     "metadata": {},
     "output_type": "execute_result"
    }
   ],
   "source": [
    "y_pred = svc_model.predict(test_X_category_B)\n",
    "# Print performance details\n",
    "accuracy = metrics.accuracy_score(test_target_category_B, y_pred) # , normalize=True, sample_weight=None\n",
    "print(\"Classification accuracy = %.2f\" % accuracy)\n",
    "print(metrics.classification_report(test_target_category_B, y_pred))\n",
    "# Print confusion matrix\n",
    "print(\"Confusion Matrix\")\n",
    "pd.crosstab(test_target_category_B, y_pred, rownames=['True'], colnames=['Predicted'], margins=True)"
   ]
  },
  {
   "cell_type": "code",
   "execution_count": null,
   "metadata": {},
   "outputs": [],
   "source": []
  },
  {
   "cell_type": "markdown",
   "metadata": {},
   "source": [
    "<b>Hyper Parameters Tuning of SVM model using Grid Search </b>"
   ]
  },
  {
   "cell_type": "markdown",
   "metadata": {},
   "source": [
    "We can try to tune the model using Grid Search. In SVM model, kernel, gammas and C value plays an important role.\n",
    "C controls the trade off between smooth decision boundary and classifying the training points correctly. Gamma is a parameter for non linear hyperplanes. Higher value of gamma tries to exactly fit the training data set. Kernel parameters is used to select the type of hyperplane which will be used to separate the data. "
   ]
  },
  {
   "cell_type": "code",
   "execution_count": 94,
   "metadata": {},
   "outputs": [],
   "source": [
    "kernels = ['linear', 'rbf', 'poly']\n",
    "gammas = [0.1, 1, 10, 100]\n",
    "cs = [0.1, 1, 10, 100, 1000]\n",
    "param_grid = dict(kernel=kernels, C= cs, gamma=gammas)"
   ]
  },
  {
   "cell_type": "code",
   "execution_count": 95,
   "metadata": {},
   "outputs": [
    {
     "data": {
      "text/plain": [
       "GridSearchCV(cv=5, error_score='raise-deprecating',\n",
       "       estimator=SVC(C=1.0, cache_size=200, class_weight=None, coef0=0.0,\n",
       "  decision_function_shape='ovr', degree=3, gamma='auto_deprecated',\n",
       "  kernel='rbf', max_iter=-1, probability=False, random_state=None,\n",
       "  shrinking=True, tol=0.001, verbose=False),\n",
       "       fit_params=None, iid='warn', n_jobs=None,\n",
       "       param_grid={'kernel': ['linear', 'rbf', 'poly'], 'C': [0.1, 1, 10, 100, 1000], 'gamma': [0.1, 1, 10, 100]},\n",
       "       pre_dispatch='2*n_jobs', refit=True, return_train_score='warn',\n",
       "       scoring='accuracy', verbose=0)"
      ]
     },
     "execution_count": 95,
     "metadata": {},
     "output_type": "execute_result"
    }
   ],
   "source": [
    "# instantiate the grid\n",
    "grid = GridSearchCV(SVC(), param_grid, cv=5, scoring='accuracy')\n",
    "grid.fit(train_X, train_target_category_A)"
   ]
  },
  {
   "cell_type": "code",
   "execution_count": 96,
   "metadata": {},
   "outputs": [
    {
     "name": "stdout",
     "output_type": "stream",
     "text": [
      "Best parameters set found on training set:\n"
     ]
    },
    {
     "data": {
      "text/plain": [
       "{'C': 1, 'gamma': 0.1, 'kernel': 'linear'}"
      ]
     },
     "metadata": {},
     "output_type": "display_data"
    },
    {
     "data": {
      "text/plain": [
       "0.8609206660137121"
      ]
     },
     "metadata": {},
     "output_type": "display_data"
    }
   ],
   "source": [
    "# Print details\n",
    "print(\"Best parameters set found on training set:\")\n",
    "display(grid.best_params_)\n",
    "display(grid.best_score_)"
   ]
  },
  {
   "cell_type": "markdown",
   "metadata": {},
   "source": [
    "### Using the best parameters to make predictions on the test datasets of same category and different category"
   ]
  },
  {
   "cell_type": "code",
   "execution_count": 97,
   "metadata": {},
   "outputs": [
    {
     "data": {
      "text/plain": [
       "SVC(C=10, cache_size=200, class_weight=None, coef0=0.0,\n",
       "  decision_function_shape='ovr', degree=3, gamma=1, kernel='rbf',\n",
       "  max_iter=-1, probability=False, random_state=None, shrinking=True,\n",
       "  tol=0.001, verbose=False)"
      ]
     },
     "execution_count": 97,
     "metadata": {},
     "output_type": "execute_result"
    }
   ],
   "source": [
    "svc_model_tuned = SVC(kernel='rbf',C=10,gamma= 1)\n",
    "svc_model_tuned.fit(train_X, train_target_category_A)"
   ]
  },
  {
   "cell_type": "markdown",
   "metadata": {},
   "source": [
    "Now, we are making predictions on the same category test dataset and comparing it's value with the actual result to find the accuracy score. We are also creating a confusion matrix, which summarises different aspects of classifier performance"
   ]
  },
  {
   "cell_type": "code",
   "execution_count": 98,
   "metadata": {},
   "outputs": [
    {
     "name": "stdout",
     "output_type": "stream",
     "text": [
      "Classification accuracy = 0.87\n",
      "              precision    recall  f1-score   support\n",
      "\n",
      "    Negative       0.84      0.76      0.80       146\n",
      "     Postive       0.89      0.93      0.91       292\n",
      "\n",
      "   micro avg       0.87      0.87      0.87       438\n",
      "   macro avg       0.86      0.84      0.85       438\n",
      "weighted avg       0.87      0.87      0.87       438\n",
      "\n",
      "Confusion Matrix\n"
     ]
    },
    {
     "data": {
      "text/html": [
       "<div>\n",
       "<style scoped>\n",
       "    .dataframe tbody tr th:only-of-type {\n",
       "        vertical-align: middle;\n",
       "    }\n",
       "\n",
       "    .dataframe tbody tr th {\n",
       "        vertical-align: top;\n",
       "    }\n",
       "\n",
       "    .dataframe thead th {\n",
       "        text-align: right;\n",
       "    }\n",
       "</style>\n",
       "<table border=\"1\" class=\"dataframe\">\n",
       "  <thead>\n",
       "    <tr style=\"text-align: right;\">\n",
       "      <th>Predicted</th>\n",
       "      <th>Negative</th>\n",
       "      <th>Postive</th>\n",
       "      <th>All</th>\n",
       "    </tr>\n",
       "    <tr>\n",
       "      <th>True</th>\n",
       "      <th></th>\n",
       "      <th></th>\n",
       "      <th></th>\n",
       "    </tr>\n",
       "  </thead>\n",
       "  <tbody>\n",
       "    <tr>\n",
       "      <th>Negative</th>\n",
       "      <td>111</td>\n",
       "      <td>35</td>\n",
       "      <td>146</td>\n",
       "    </tr>\n",
       "    <tr>\n",
       "      <th>Postive</th>\n",
       "      <td>21</td>\n",
       "      <td>271</td>\n",
       "      <td>292</td>\n",
       "    </tr>\n",
       "    <tr>\n",
       "      <th>All</th>\n",
       "      <td>132</td>\n",
       "      <td>306</td>\n",
       "      <td>438</td>\n",
       "    </tr>\n",
       "  </tbody>\n",
       "</table>\n",
       "</div>"
      ],
      "text/plain": [
       "Predicted  Negative  Postive  All\n",
       "True                             \n",
       "Negative   111       35       146\n",
       "Postive    21        271      292\n",
       "All        132       306      438"
      ]
     },
     "execution_count": 98,
     "metadata": {},
     "output_type": "execute_result"
    }
   ],
   "source": [
    "y_pred = svc_model_tuned.predict(test_X_category_A)\n",
    "# Print performance details\n",
    "accuracy = metrics.accuracy_score(test_target_category_A, y_pred) # , normalize=True, sample_weight=None\n",
    "print(\"Classification accuracy = %.2f\" % accuracy)\n",
    "print(metrics.classification_report(test_target_category_A, y_pred))\n",
    "# Print confusion matrix\n",
    "print(\"Confusion Matrix\")\n",
    "pd.crosstab(test_target_category_A, y_pred, rownames=['True'], colnames=['Predicted'], margins=True)"
   ]
  },
  {
   "cell_type": "markdown",
   "metadata": {},
   "source": [
    "Now, we are making predictions on the different category test dataset and comparing it's value with the actual result to find the accuracy score. We are also creating a confusion matrix, which summarises different aspects of classifier performance"
   ]
  },
  {
   "cell_type": "code",
   "execution_count": 99,
   "metadata": {},
   "outputs": [
    {
     "name": "stdout",
     "output_type": "stream",
     "text": [
      "Classification accuracy = 0.83\n",
      "              precision    recall  f1-score   support\n",
      "\n",
      "    Negative       0.87      0.72      0.79       637\n",
      "     Postive       0.80      0.91      0.85       793\n",
      "\n",
      "   micro avg       0.83      0.83      0.83      1430\n",
      "   macro avg       0.84      0.82      0.82      1430\n",
      "weighted avg       0.83      0.83      0.82      1430\n",
      "\n",
      "Confusion Matrix\n"
     ]
    },
    {
     "data": {
      "text/html": [
       "<div>\n",
       "<style scoped>\n",
       "    .dataframe tbody tr th:only-of-type {\n",
       "        vertical-align: middle;\n",
       "    }\n",
       "\n",
       "    .dataframe tbody tr th {\n",
       "        vertical-align: top;\n",
       "    }\n",
       "\n",
       "    .dataframe thead th {\n",
       "        text-align: right;\n",
       "    }\n",
       "</style>\n",
       "<table border=\"1\" class=\"dataframe\">\n",
       "  <thead>\n",
       "    <tr style=\"text-align: right;\">\n",
       "      <th>Predicted</th>\n",
       "      <th>Negative</th>\n",
       "      <th>Postive</th>\n",
       "      <th>All</th>\n",
       "    </tr>\n",
       "    <tr>\n",
       "      <th>True</th>\n",
       "      <th></th>\n",
       "      <th></th>\n",
       "      <th></th>\n",
       "    </tr>\n",
       "  </thead>\n",
       "  <tbody>\n",
       "    <tr>\n",
       "      <th>Negative</th>\n",
       "      <td>456</td>\n",
       "      <td>181</td>\n",
       "      <td>637</td>\n",
       "    </tr>\n",
       "    <tr>\n",
       "      <th>Postive</th>\n",
       "      <td>68</td>\n",
       "      <td>725</td>\n",
       "      <td>793</td>\n",
       "    </tr>\n",
       "    <tr>\n",
       "      <th>All</th>\n",
       "      <td>524</td>\n",
       "      <td>906</td>\n",
       "      <td>1430</td>\n",
       "    </tr>\n",
       "  </tbody>\n",
       "</table>\n",
       "</div>"
      ],
      "text/plain": [
       "Predicted  Negative  Postive   All\n",
       "True                              \n",
       "Negative   456       181      637 \n",
       "Postive    68        725      793 \n",
       "All        524       906      1430"
      ]
     },
     "execution_count": 99,
     "metadata": {},
     "output_type": "execute_result"
    }
   ],
   "source": [
    "y_pred = svc_model_tuned.predict(test_X_category_B)\n",
    "# Print performance details\n",
    "accuracy = metrics.accuracy_score(test_target_category_B, y_pred) # , normalize=True, sample_weight=None\n",
    "print(\"Classification accuracy = %.2f\" % accuracy)\n",
    "print(metrics.classification_report(test_target_category_B, y_pred))\n",
    "# Print confusion matrix\n",
    "print(\"Confusion Matrix\")\n",
    "pd.crosstab(test_target_category_B, y_pred, rownames=['True'], colnames=['Predicted'], margins=True)"
   ]
  },
  {
   "cell_type": "markdown",
   "metadata": {},
   "source": [
    "## Result Evaluation \n",
    "<a id=\"task_3_1\"></a>\n",
    "\n",
    "1) In Part 1 of task 3 we have to train a classification model on the data from “Category A”, and evaluate its performance on the test data from \"Category A\" and “Category B”. In our case Category 1 is bars and Category 2 is Hotels and Travel <br/>\n",
    "\n",
    "2) In previous part, we saw that for Bars dataset, SVM was giving us best accuracy and F1 Score on the test dataset and also by evaluating it using cross-validation. So in this part, we have used SVM to train our model on bars training dataset and then we have predicted the value of test data of bars and also Hotels and Travel Dataset. <br/>\n",
    "\n",
    "3) <b>As a result we can see that a model trained on bar reviews has 86% accuracy when tested on Bar review and 82% accuracy when tested on hotels and travel review.</b>\n",
    " \n",
    "4) Also after fine tuning SVM model we were able to get 87% Accuracy on bar review test dataset and 83% accuracy on hotels and travel test dataset. Best parameters after fine tuning SVM were {'C': 1, 'gamma': 0.1, 'kernel': 'linear'}. </br>\n",
    "\n",
    "5) We can see that there is only slight(4%) difference in the accuracy when model was tested on same category test data and when tested on different category test data. This shows that document-term matrix which was created for bars dataset can be used to evaluate \"Hotels and Travel\" dataset very efficiently. The knowledge transfer from bar dataset to hotels and travel is very efficient. We can use the trained model to predict data from both the categories with good accuracy.   "
   ]
  },
  {
   "cell_type": "markdown",
   "metadata": {},
   "source": [
    "## Part 2\n",
    "\n",
    "Train a classification model on the data from “Category B”, and evaluate its performance on the data from “Category A” <br/>\n",
    "In our Case, Category A is now \"Hotels and Travel\" and Category B is \"Bar\""
   ]
  },
  {
   "cell_type": "code",
   "execution_count": 100,
   "metadata": {},
   "outputs": [],
   "source": [
    "#Category A\n",
    "train_documents=hotels_travel_dataset['Review Text']\n",
    "train_target=hotels_travel_dataset['class_label']"
   ]
  },
  {
   "cell_type": "markdown",
   "metadata": {},
   "source": [
    "We are splitting the data in training and testing. Testing data would be used to evalaute the model trained on same category. \n"
   ]
  },
  {
   "cell_type": "code",
   "execution_count": 101,
   "metadata": {},
   "outputs": [],
   "source": [
    "train_documents_category_A, test_documents_category_A, train_target_category_A, test_target_category_A \\\n",
    "= train_test_split(train_documents, train_target, random_state=0,train_size = 0.7,test_size=0.3)"
   ]
  },
  {
   "cell_type": "markdown",
   "metadata": {},
   "source": [
    "We would be using this data to evalaute the model trained on different category"
   ]
  },
  {
   "cell_type": "code",
   "execution_count": 102,
   "metadata": {},
   "outputs": [],
   "source": [
    "#Category B (Test Dataset)\n",
    "test_documents_category_B=bars_dataset['Review Text']\n",
    "test_target_category_B=bars_dataset['class_label']"
   ]
  },
  {
   "cell_type": "markdown",
   "metadata": {},
   "source": [
    "We are them transforming the list of Review text into a document-term matrix by applying some pre-processing steps. We have used the same approach that we have followed in above part. Using a custom lemma_tokenizer to perform tokenization. In that function we have handled stopwords and also performed the lemmatization of tokens. We have converted everything to lower case and discarded words which appear in less than 3 documents"
   ]
  },
  {
   "cell_type": "code",
   "execution_count": 103,
   "metadata": {},
   "outputs": [
    {
     "name": "stdout",
     "output_type": "stream",
     "text": [
      "(1000, 5100)\n"
     ]
    }
   ],
   "source": [
    "#vectorizer = CountVectorizer(stop_words=\"english\",min_df = 3,tokenizer=lemma_tokenizer)\n",
    "vectorizer = TfidfVectorizer(min_df = 3,tokenizer=lemma_tokenizer,ngram_range=(1, 2))\n",
    "train_X = vectorizer.fit_transform(train_documents_category_A)\n",
    "print(train_X.shape)"
   ]
  },
  {
   "cell_type": "markdown",
   "metadata": {},
   "source": [
    "We are creating document-term matrix from test documents by calling transform() method to use the same vocabulary as the of training dataset. We will use text_X in the below model for testing purpose."
   ]
  },
  {
   "cell_type": "markdown",
   "metadata": {},
   "source": [
    "Vector for test documents of same category"
   ]
  },
  {
   "cell_type": "code",
   "execution_count": 104,
   "metadata": {},
   "outputs": [
    {
     "name": "stdout",
     "output_type": "stream",
     "text": [
      "(429, 5100)\n"
     ]
    }
   ],
   "source": [
    "test_X_category_A = vectorizer.transform(test_documents_category_A)\n",
    "print(test_X_category_A.shape)"
   ]
  },
  {
   "cell_type": "markdown",
   "metadata": {},
   "source": [
    "Vector for test documents from different category"
   ]
  },
  {
   "cell_type": "code",
   "execution_count": 105,
   "metadata": {},
   "outputs": [
    {
     "name": "stdout",
     "output_type": "stream",
     "text": [
      "(1460, 5100)\n"
     ]
    }
   ],
   "source": [
    "test_X_category_B = vectorizer.transform(test_documents_category_B)\n",
    "print(test_X_category_B.shape)"
   ]
  },
  {
   "cell_type": "markdown",
   "metadata": {},
   "source": [
    "In the previous part, we saw that <b>SVM model</b> was giving us the best accuracy. So we will use that model to evaluate the performance."
   ]
  },
  {
   "cell_type": "code",
   "execution_count": 106,
   "metadata": {},
   "outputs": [
    {
     "data": {
      "text/plain": [
       "SVC(C=1.0, cache_size=200, class_weight=None, coef0=0.0,\n",
       "  decision_function_shape='ovr', degree=3, gamma='auto_deprecated',\n",
       "  kernel='linear', max_iter=-1, probability=False, random_state=None,\n",
       "  shrinking=True, tol=0.001, verbose=False)"
      ]
     },
     "execution_count": 106,
     "metadata": {},
     "output_type": "execute_result"
    }
   ],
   "source": [
    "svc_model = SVC(kernel='linear')\n",
    "svc_model.fit(train_X, train_target_category_A)"
   ]
  },
  {
   "cell_type": "markdown",
   "metadata": {},
   "source": [
    "Now, we are making predictions on the same category test dataset and comparing it's value with the actual result to find the accuracy score. We are also creating a confusion matrix, which summarises different aspects of classifier performance"
   ]
  },
  {
   "cell_type": "code",
   "execution_count": 107,
   "metadata": {},
   "outputs": [
    {
     "name": "stdout",
     "output_type": "stream",
     "text": [
      "Classification accuracy = 0.90\n",
      "              precision    recall  f1-score   support\n",
      "\n",
      "    Negative       0.91      0.85      0.88       194\n",
      "     Postive       0.88      0.93      0.91       235\n",
      "\n",
      "   micro avg       0.90      0.90      0.90       429\n",
      "   macro avg       0.90      0.89      0.89       429\n",
      "weighted avg       0.90      0.90      0.89       429\n",
      "\n",
      "Confusion Matrix\n"
     ]
    },
    {
     "data": {
      "text/html": [
       "<div>\n",
       "<style scoped>\n",
       "    .dataframe tbody tr th:only-of-type {\n",
       "        vertical-align: middle;\n",
       "    }\n",
       "\n",
       "    .dataframe tbody tr th {\n",
       "        vertical-align: top;\n",
       "    }\n",
       "\n",
       "    .dataframe thead th {\n",
       "        text-align: right;\n",
       "    }\n",
       "</style>\n",
       "<table border=\"1\" class=\"dataframe\">\n",
       "  <thead>\n",
       "    <tr style=\"text-align: right;\">\n",
       "      <th>Predicted</th>\n",
       "      <th>Negative</th>\n",
       "      <th>Postive</th>\n",
       "      <th>All</th>\n",
       "    </tr>\n",
       "    <tr>\n",
       "      <th>True</th>\n",
       "      <th></th>\n",
       "      <th></th>\n",
       "      <th></th>\n",
       "    </tr>\n",
       "  </thead>\n",
       "  <tbody>\n",
       "    <tr>\n",
       "      <th>Negative</th>\n",
       "      <td>165</td>\n",
       "      <td>29</td>\n",
       "      <td>194</td>\n",
       "    </tr>\n",
       "    <tr>\n",
       "      <th>Postive</th>\n",
       "      <td>16</td>\n",
       "      <td>219</td>\n",
       "      <td>235</td>\n",
       "    </tr>\n",
       "    <tr>\n",
       "      <th>All</th>\n",
       "      <td>181</td>\n",
       "      <td>248</td>\n",
       "      <td>429</td>\n",
       "    </tr>\n",
       "  </tbody>\n",
       "</table>\n",
       "</div>"
      ],
      "text/plain": [
       "Predicted  Negative  Postive  All\n",
       "True                             \n",
       "Negative   165       29       194\n",
       "Postive    16        219      235\n",
       "All        181       248      429"
      ]
     },
     "execution_count": 107,
     "metadata": {},
     "output_type": "execute_result"
    }
   ],
   "source": [
    "y_pred = svc_model.predict(test_X_category_A)\n",
    "# Print performance details\n",
    "accuracy = metrics.accuracy_score(test_target_category_A, y_pred) # , normalize=True, sample_weight=None\n",
    "print(\"Classification accuracy = %.2f\" % accuracy)\n",
    "print(metrics.classification_report(test_target_category_A, y_pred))\n",
    "# Print confusion matrix\n",
    "print(\"Confusion Matrix\")\n",
    "pd.crosstab(test_target_category_A, y_pred, rownames=['True'], colnames=['Predicted'], margins=True)"
   ]
  },
  {
   "cell_type": "markdown",
   "metadata": {},
   "source": [
    "Now, we are making predictions on the different category test dataset and comparing it's value with the actual result to find the accuracy score. We are also creating a confusion matrix, which summarises different aspects of classifier performance"
   ]
  },
  {
   "cell_type": "code",
   "execution_count": 108,
   "metadata": {},
   "outputs": [
    {
     "name": "stdout",
     "output_type": "stream",
     "text": [
      "Classification accuracy = 0.85\n",
      "              precision    recall  f1-score   support\n",
      "\n",
      "    Negative       0.88      0.70      0.78       565\n",
      "     Postive       0.83      0.94      0.88       895\n",
      "\n",
      "   micro avg       0.85      0.85      0.85      1460\n",
      "   macro avg       0.85      0.82      0.83      1460\n",
      "weighted avg       0.85      0.85      0.84      1460\n",
      "\n",
      "Confusion Matrix\n"
     ]
    },
    {
     "data": {
      "text/html": [
       "<div>\n",
       "<style scoped>\n",
       "    .dataframe tbody tr th:only-of-type {\n",
       "        vertical-align: middle;\n",
       "    }\n",
       "\n",
       "    .dataframe tbody tr th {\n",
       "        vertical-align: top;\n",
       "    }\n",
       "\n",
       "    .dataframe thead th {\n",
       "        text-align: right;\n",
       "    }\n",
       "</style>\n",
       "<table border=\"1\" class=\"dataframe\">\n",
       "  <thead>\n",
       "    <tr style=\"text-align: right;\">\n",
       "      <th>Predicted</th>\n",
       "      <th>Negative</th>\n",
       "      <th>Postive</th>\n",
       "      <th>All</th>\n",
       "    </tr>\n",
       "    <tr>\n",
       "      <th>True</th>\n",
       "      <th></th>\n",
       "      <th></th>\n",
       "      <th></th>\n",
       "    </tr>\n",
       "  </thead>\n",
       "  <tbody>\n",
       "    <tr>\n",
       "      <th>Negative</th>\n",
       "      <td>394</td>\n",
       "      <td>171</td>\n",
       "      <td>565</td>\n",
       "    </tr>\n",
       "    <tr>\n",
       "      <th>Postive</th>\n",
       "      <td>55</td>\n",
       "      <td>840</td>\n",
       "      <td>895</td>\n",
       "    </tr>\n",
       "    <tr>\n",
       "      <th>All</th>\n",
       "      <td>449</td>\n",
       "      <td>1011</td>\n",
       "      <td>1460</td>\n",
       "    </tr>\n",
       "  </tbody>\n",
       "</table>\n",
       "</div>"
      ],
      "text/plain": [
       "Predicted  Negative  Postive   All\n",
       "True                              \n",
       "Negative   394       171      565 \n",
       "Postive    55        840      895 \n",
       "All        449       1011     1460"
      ]
     },
     "execution_count": 108,
     "metadata": {},
     "output_type": "execute_result"
    }
   ],
   "source": [
    "y_pred = svc_model.predict(test_X_category_B)\n",
    "# Print performance details\n",
    "accuracy = metrics.accuracy_score(test_target_category_B, y_pred) # , normalize=True, sample_weight=None\n",
    "print(\"Classification accuracy = %.2f\" % accuracy)\n",
    "print(metrics.classification_report(test_target_category_B, y_pred))\n",
    "# Print confusion matrix\n",
    "print(\"Confusion Matrix\")\n",
    "pd.crosstab(test_target_category_B, y_pred, rownames=['True'], colnames=['Predicted'], margins=True)"
   ]
  },
  {
   "cell_type": "markdown",
   "metadata": {},
   "source": [
    "<b>Hyper Parameters Tuning of SVM model using Grid Search </b><br/>\n",
    "We can try to tune the model using Grid Search. In SVM model, kernel, gammas and C value plays an important role. C controls the trade off between smooth decision boundary and classifying the training points correctly. Gamma is a parameter for non linear hyperplanes. Higher value of gamma tries to exactly fit the training data set. Kernel parameters is used to select the type of hyperplane which will be used to separate the data."
   ]
  },
  {
   "cell_type": "code",
   "execution_count": 109,
   "metadata": {},
   "outputs": [],
   "source": [
    "gammas = [0.1, 1, 10, 100]\n",
    "cs = [0.1, 1, 10, 100, 1000]\n",
    "param_grid = dict( C= cs, gamma=gammas)"
   ]
  },
  {
   "cell_type": "code",
   "execution_count": 110,
   "metadata": {},
   "outputs": [
    {
     "data": {
      "text/plain": [
       "GridSearchCV(cv=5, error_score='raise-deprecating',\n",
       "       estimator=SVC(C=1.0, cache_size=200, class_weight=None, coef0=0.0,\n",
       "  decision_function_shape='ovr', degree=3, gamma='auto_deprecated',\n",
       "  kernel='linear', max_iter=-1, probability=False, random_state=None,\n",
       "  shrinking=True, tol=0.001, verbose=False),\n",
       "       fit_params=None, iid='warn', n_jobs=None,\n",
       "       param_grid={'C': [0.1, 1, 10, 100, 1000], 'gamma': [0.1, 1, 10, 100]},\n",
       "       pre_dispatch='2*n_jobs', refit=True, return_train_score='warn',\n",
       "       scoring='accuracy', verbose=0)"
      ]
     },
     "execution_count": 110,
     "metadata": {},
     "output_type": "execute_result"
    }
   ],
   "source": [
    "# instantiate the grid\n",
    "grid = GridSearchCV(SVC(kernel='linear'), param_grid, cv=5, scoring='accuracy')\n",
    "grid.fit(train_X, train_target_category_A)"
   ]
  },
  {
   "cell_type": "code",
   "execution_count": 111,
   "metadata": {},
   "outputs": [
    {
     "name": "stdout",
     "output_type": "stream",
     "text": [
      "Best parameters set found on training set:\n"
     ]
    },
    {
     "data": {
      "text/plain": [
       "{'C': 1, 'gamma': 0.1}"
      ]
     },
     "metadata": {},
     "output_type": "display_data"
    },
    {
     "data": {
      "text/plain": [
       "0.88"
      ]
     },
     "metadata": {},
     "output_type": "display_data"
    }
   ],
   "source": [
    "# Print details\n",
    "print(\"Best parameters set found on training set:\")\n",
    "display(grid.best_params_)\n",
    "display(grid.best_score_)"
   ]
  },
  {
   "cell_type": "markdown",
   "metadata": {},
   "source": [
    "### Using the best parameters to make predictions on the test dataset"
   ]
  },
  {
   "cell_type": "code",
   "execution_count": 112,
   "metadata": {},
   "outputs": [
    {
     "data": {
      "text/plain": [
       "SVC(C=1, cache_size=200, class_weight=None, coef0=0.0,\n",
       "  decision_function_shape='ovr', degree=3, gamma=1, kernel='linear',\n",
       "  max_iter=-1, probability=False, random_state=None, shrinking=True,\n",
       "  tol=0.001, verbose=False)"
      ]
     },
     "execution_count": 112,
     "metadata": {},
     "output_type": "execute_result"
    }
   ],
   "source": [
    "svc_model_tuned = SVC(kernel='linear',C=1,gamma= 1)\n",
    "svc_model_tuned.fit(train_X, train_target_category_A)"
   ]
  },
  {
   "cell_type": "markdown",
   "metadata": {},
   "source": [
    "Now, we are making predictions on the same category test dataset and comparing it's value with the actual result to find the accuracy score. We are also creating a confusion matrix, which summarises different aspects of classifier performance"
   ]
  },
  {
   "cell_type": "code",
   "execution_count": 113,
   "metadata": {},
   "outputs": [
    {
     "name": "stdout",
     "output_type": "stream",
     "text": [
      "Classification accuracy = 0.90\n",
      "              precision    recall  f1-score   support\n",
      "\n",
      "    Negative       0.91      0.85      0.88       194\n",
      "     Postive       0.88      0.93      0.91       235\n",
      "\n",
      "   micro avg       0.90      0.90      0.90       429\n",
      "   macro avg       0.90      0.89      0.89       429\n",
      "weighted avg       0.90      0.90      0.89       429\n",
      "\n",
      "Confusion Matrix\n"
     ]
    },
    {
     "data": {
      "text/html": [
       "<div>\n",
       "<style scoped>\n",
       "    .dataframe tbody tr th:only-of-type {\n",
       "        vertical-align: middle;\n",
       "    }\n",
       "\n",
       "    .dataframe tbody tr th {\n",
       "        vertical-align: top;\n",
       "    }\n",
       "\n",
       "    .dataframe thead th {\n",
       "        text-align: right;\n",
       "    }\n",
       "</style>\n",
       "<table border=\"1\" class=\"dataframe\">\n",
       "  <thead>\n",
       "    <tr style=\"text-align: right;\">\n",
       "      <th>Predicted</th>\n",
       "      <th>Negative</th>\n",
       "      <th>Postive</th>\n",
       "      <th>All</th>\n",
       "    </tr>\n",
       "    <tr>\n",
       "      <th>True</th>\n",
       "      <th></th>\n",
       "      <th></th>\n",
       "      <th></th>\n",
       "    </tr>\n",
       "  </thead>\n",
       "  <tbody>\n",
       "    <tr>\n",
       "      <th>Negative</th>\n",
       "      <td>165</td>\n",
       "      <td>29</td>\n",
       "      <td>194</td>\n",
       "    </tr>\n",
       "    <tr>\n",
       "      <th>Postive</th>\n",
       "      <td>16</td>\n",
       "      <td>219</td>\n",
       "      <td>235</td>\n",
       "    </tr>\n",
       "    <tr>\n",
       "      <th>All</th>\n",
       "      <td>181</td>\n",
       "      <td>248</td>\n",
       "      <td>429</td>\n",
       "    </tr>\n",
       "  </tbody>\n",
       "</table>\n",
       "</div>"
      ],
      "text/plain": [
       "Predicted  Negative  Postive  All\n",
       "True                             \n",
       "Negative   165       29       194\n",
       "Postive    16        219      235\n",
       "All        181       248      429"
      ]
     },
     "execution_count": 113,
     "metadata": {},
     "output_type": "execute_result"
    }
   ],
   "source": [
    "y_pred = svc_model_tuned.predict(test_X_category_A)\n",
    "# Print performance details\n",
    "accuracy = metrics.accuracy_score(test_target_category_A, y_pred) # , normalize=True, sample_weight=None\n",
    "print(\"Classification accuracy = %.2f\" % accuracy)\n",
    "print(metrics.classification_report(test_target_category_A, y_pred))\n",
    "# Print confusion matrix\n",
    "print(\"Confusion Matrix\")\n",
    "pd.crosstab(test_target_category_A, y_pred, rownames=['True'], colnames=['Predicted'], margins=True)"
   ]
  },
  {
   "cell_type": "markdown",
   "metadata": {},
   "source": [
    "Now, we are making predictions on the different category test dataset and comparing it's value with the actual result to find the accuracy score. We are also creating a confusion matrix, which summarises different aspects of classifier performance"
   ]
  },
  {
   "cell_type": "code",
   "execution_count": 114,
   "metadata": {},
   "outputs": [
    {
     "name": "stdout",
     "output_type": "stream",
     "text": [
      "Classification accuracy = 0.85\n",
      "              precision    recall  f1-score   support\n",
      "\n",
      "    Negative       0.88      0.70      0.78       565\n",
      "     Postive       0.83      0.94      0.88       895\n",
      "\n",
      "   micro avg       0.85      0.85      0.85      1460\n",
      "   macro avg       0.85      0.82      0.83      1460\n",
      "weighted avg       0.85      0.85      0.84      1460\n",
      "\n",
      "Confusion Matrix\n"
     ]
    },
    {
     "data": {
      "text/html": [
       "<div>\n",
       "<style scoped>\n",
       "    .dataframe tbody tr th:only-of-type {\n",
       "        vertical-align: middle;\n",
       "    }\n",
       "\n",
       "    .dataframe tbody tr th {\n",
       "        vertical-align: top;\n",
       "    }\n",
       "\n",
       "    .dataframe thead th {\n",
       "        text-align: right;\n",
       "    }\n",
       "</style>\n",
       "<table border=\"1\" class=\"dataframe\">\n",
       "  <thead>\n",
       "    <tr style=\"text-align: right;\">\n",
       "      <th>Predicted</th>\n",
       "      <th>Negative</th>\n",
       "      <th>Postive</th>\n",
       "      <th>All</th>\n",
       "    </tr>\n",
       "    <tr>\n",
       "      <th>True</th>\n",
       "      <th></th>\n",
       "      <th></th>\n",
       "      <th></th>\n",
       "    </tr>\n",
       "  </thead>\n",
       "  <tbody>\n",
       "    <tr>\n",
       "      <th>Negative</th>\n",
       "      <td>394</td>\n",
       "      <td>171</td>\n",
       "      <td>565</td>\n",
       "    </tr>\n",
       "    <tr>\n",
       "      <th>Postive</th>\n",
       "      <td>55</td>\n",
       "      <td>840</td>\n",
       "      <td>895</td>\n",
       "    </tr>\n",
       "    <tr>\n",
       "      <th>All</th>\n",
       "      <td>449</td>\n",
       "      <td>1011</td>\n",
       "      <td>1460</td>\n",
       "    </tr>\n",
       "  </tbody>\n",
       "</table>\n",
       "</div>"
      ],
      "text/plain": [
       "Predicted  Negative  Postive   All\n",
       "True                              \n",
       "Negative   394       171      565 \n",
       "Postive    55        840      895 \n",
       "All        449       1011     1460"
      ]
     },
     "execution_count": 114,
     "metadata": {},
     "output_type": "execute_result"
    }
   ],
   "source": [
    "y_pred = svc_model_tuned.predict(test_X_category_B)\n",
    "# Print performance details\n",
    "accuracy = metrics.accuracy_score(test_target_category_B, y_pred) # , normalize=True, sample_weight=None\n",
    "print(\"Classification accuracy = %.2f\" % accuracy)\n",
    "print(metrics.classification_report(test_target_category_B, y_pred))\n",
    "# Print confusion matrix\n",
    "print(\"Confusion Matrix\")\n",
    "pd.crosstab(test_target_category_B, y_pred, rownames=['True'], colnames=['Predicted'], margins=True)"
   ]
  },
  {
   "cell_type": "markdown",
   "metadata": {},
   "source": [
    "## Result Evaluation \n",
    "<a id=\"task_3_2\"></a>\n",
    "\n",
    "1) In Part 2 of task 3 we have to train a classification model on the data from “Category A”, and evaluate its performance on the test data from \"Category A\" and “Category B”. In our case Category 1 is Hotels and Travel and Category 2 is bars <br/>\n",
    "\n",
    "2) In previous part, we saw that for Hotels and Travel dataset, SVM was giving us best accuracy and F1 Score on the test dataset and also by evaluating it using cross-validation. So in this part, we have used SVM to train our model on Hotels and Travel training dataset and then we have predicted the value of test data of Hotels and Travel and also Bars Dataset. <br/>\n",
    "\n",
    "3) <b>As a result we can see that a model trained on Hotels and Travel reviews has 90% accuracy when tested on Hotels and Travel review and 85% accuracy when tested on bars review.</b>\n",
    " \n",
    "4) Also after fine tuning SVM model we were able to get same accuracy. </br>\n",
    "\n",
    "5) We can see that there is only slight(5%) difference in the accuracy when model was tested on same category test data and when tested on different category test data. This shows that document-term matrix which was created for Hotels and Travel dataset can be used to evaluate \"Bars\" dataset very efficiently. The knowledge transfer from Hotels and Travel dataset to bars is very efficient. We can use the trained model to predict data from both the categories with good accuracy. "
   ]
  },
  {
   "cell_type": "markdown",
   "metadata": {},
   "source": [
    "## Conclusion "
   ]
  },
  {
   "cell_type": "markdown",
   "metadata": {},
   "source": [
    "In this assignment, we have divided Task 2 in two parts. First part involves training and testing Category 1 data that is Hotels and Travel and in second part, we are training and testing Category 2 data that is Bars. I have included the result and analysis, after executing each part. <br/>\n",
    "You can check the Analysis of Task 2 from below cells- <br/>\n",
    "[Result of Hotels and Travel Dataset](#task_2_1)<br/>\n",
    "[Result of Bars Dataset](#task_2_2)<br/>\n",
    "You can check the Analysis of Task 3 from below cells- <br/>\n",
    "[Part 1- Category 1 as training data and Category 2 as test data](#task_3_1)<br/>\n",
    "[Part 2- Category 2 as training data and Category 1 as test data](#task_3_2)<br/>\n",
    "\n"
   ]
  },
  {
   "cell_type": "markdown",
   "metadata": {},
   "source": [
    "1. From the results, we can see that SVM has given us the best accuracy and F1-Score as compared to Naive Bayes and K-nearest neighbors algorithm.<br/>\n",
    "2. One of the reason can be that SVM works well with <b>high dimensional data</b> like we have in our text analysis case. Also the risk of <b>over-fitting is less</b> in SVM models, making it more robust. <br/>\n",
    "3. One of the disadvantage is that training and fine tuning a SVM model takes more time as compared to other two models. <br/>\n",
    "4. On the other hand we can see that Naive Bayes is also giving us good result despite the fact that it treats each feature independently. It is easy to train and implement a naive bayes model. And also fine tuning is much easier and less computationally expensive than SVM model.<br/>\n",
    "5. If we look at the result of task 3, we can see that a model trained on Hotels and travel dataset, can predict the value of bars dataset with high accuracy. And similar is the result in other case, when we trained our model on Bars dataset and used hotels and travel dataset for evaluation. <br/>\n",
    "6. A model trained on bar reviews has 86% accuracy when tested on Bar review and 82% accuracy when tested on hotels and travel review.<br/>\n",
    "7. A model trained on Hotels and Travel reviews has 90% accuracy when tested on Hotels and Travel review and 85% accuracy when tested on bars review<br/>\n",
    "8. This shows that both dataset have similar kind of words which makes a review positive or negative. Since hotels and travel category and bars category comes under same domain, there is high probability of similar kind of reviews. That's why we are getting high accuracy in both the cases.  "
   ]
  }
 ],
 "metadata": {
  "kernelspec": {
   "display_name": "Python 3",
   "language": "python",
   "name": "python3"
  },
  "language_info": {
   "codemirror_mode": {
    "name": "ipython",
    "version": 3
   },
   "file_extension": ".py",
   "mimetype": "text/x-python",
   "name": "python",
   "nbconvert_exporter": "python",
   "pygments_lexer": "ipython3",
   "version": "3.6.8"
  }
 },
 "nbformat": 4,
 "nbformat_minor": 2
}
